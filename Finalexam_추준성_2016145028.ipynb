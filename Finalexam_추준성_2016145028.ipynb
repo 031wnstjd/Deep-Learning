{
  "cells": [
    {
      "cell_type": "markdown",
      "metadata": {
        "id": "Y_a1Rz3nVyJh"
      },
      "source": [
        "# Final - Kaggle Competition"
      ]
    },
    {
      "cell_type": "code",
      "execution_count": null,
      "metadata": {
        "colab": {
          "base_uri": "https://localhost:8080/"
        },
        "id": "MI4mr7ETdFSF",
        "outputId": "613a0928-4f55-4973-bc02-8e4c92c67b67"
      },
      "outputs": [
        {
          "name": "stdout",
          "output_type": "stream",
          "text": [
            "Name :추준성\n",
            "student ID :2016145028\n"
          ]
        }
      ],
      "source": [
        "name = input(\"Name :\")\n",
        "ID = input(\"student ID :\")"
      ]
    },
    {
      "cell_type": "markdown",
      "metadata": {
        "id": "7_CGlBf-uNlN"
      },
      "source": [
        "## Prepare"
      ]
    },
    {
      "cell_type": "code",
      "execution_count": null,
      "metadata": {
        "id": "Hp41eYvPmk-o"
      },
      "outputs": [],
      "source": [
        "import torch, gc\n",
        "gc.collect()\n",
        "torch.cuda.empty_cache()"
      ]
    },
    {
      "cell_type": "markdown",
      "metadata": {
        "id": "s3-rrGwNV_xE"
      },
      "source": [
        "### Data download"
      ]
    },
    {
      "cell_type": "code",
      "execution_count": null,
      "metadata": {
        "colab": {
          "base_uri": "https://localhost:8080/"
        },
        "id": "4gs9pHXGmx0X",
        "outputId": "0d238c85-29b3-4fd0-9833-f90d6b7b412e"
      },
      "outputs": [
        {
          "name": "stdout",
          "output_type": "stream",
          "text": [
            "Mounted at /content/drive\n"
          ]
        }
      ],
      "source": [
        "#구글 드라이브 마운트\n",
        "from google.colab import drive\n",
        "drive.mount('/content/drive')"
      ]
    },
    {
      "cell_type": "code",
      "execution_count": null,
      "metadata": {
        "colab": {
          "base_uri": "https://localhost:8080/"
        },
        "id": "tBQ6gbo7l4fY",
        "outputId": "cee510fe-a747-4d97-d03c-c0ade7105b85"
      },
      "outputs": [
        {
          "name": "stdout",
          "output_type": "stream",
          "text": [
            "/content/drive/MyDrive/Final_exam\n"
          ]
        }
      ],
      "source": [
        "cd /content/drive/MyDrive/Final_exam"
      ]
    },
    {
      "cell_type": "code",
      "execution_count": null,
      "metadata": {
        "colab": {
          "base_uri": "https://localhost:8080/"
        },
        "id": "eOdA35KuR_iB",
        "outputId": "33701822-b465-4aff-df98-83baf72d1c63"
      },
      "outputs": [],
      "source": [
        "# 데이터 다운로드\n",
        "!wget -c --load-cookies /tmp/cookies.txt \"https://docs.google.com/uc?export=download&confirm=$(wget --quiet --save-cookies /tmp/cookies.txt --keep-session-cookies --no-check-certificate 'https://docs.google.com/uc?export=download&id=1SbXvCdS1D6FppQOR3BtPtdOi1FzVuAGY' -O- | sed -rn 's/.*confirm=([0-9A-Za-z_]+).*/\\1\\n/p')&id=1SbXvCdS1D6FppQOR3BtPtdOi1FzVuAGY\" -O dataset.zip"
      ]
    },
    {
      "cell_type": "code",
      "execution_count": null,
      "metadata": {
        "colab": {
          "base_uri": "https://localhost:8080/"
        },
        "id": "GKq2qmb0SGsG",
        "outputId": "2bc0881f-c994-4734-a91c-c55b56b6c3d0"
      },
      "outputs": [],
      "source": [
        "# \"data\"폴터를 만들어서 그 안에 압축 풀기\n",
        "!unzip -d ./data dataset.zip"
      ]
    },
    {
      "cell_type": "markdown",
      "metadata": {
        "id": "YSrIp1r4RS8-"
      },
      "source": [
        "### Data Load with augmnetation"
      ]
    },
    {
      "cell_type": "code",
      "execution_count": null,
      "metadata": {
        "id": "YqT3JsHFRrtJ"
      },
      "outputs": [],
      "source": [
        "import torch\n",
        "import torchvision\n",
        "import torchvision.transforms as transforms\n",
        "from torchvision.datasets import ImageFolder\n",
        "import torch.nn as nn\n",
        "import numpy as np\n",
        "import torch.optim as optim\n",
        "import torch.nn.functional as F\n",
        "from matplotlib import pyplot as plt\n",
        "from tqdm.auto import tqdm\n",
        "import warnings\n",
        "warnings.filterwarnings(action='ignore')"
      ]
    },
    {
      "cell_type": "code",
      "execution_count": null,
      "metadata": {
        "id": "Av1LdbReRaBK"
      },
      "outputs": [],
      "source": [
        "transform_train = transforms.Compose([\n",
        "    transforms.RandomResizedCrop((224,224)),\n",
        "    transforms.ToTensor(), #이미지를 tensor자료형으로 변한\n",
        "    transforms.Normalize(\n",
        "                mean=torch.tensor([0.485, 0.456, 0.406]),\n",
        "                std=torch.tensor([0.229, 0.224, 0.225]))]) # 정규화\n",
        "\n",
        "transform_test = transforms.Compose([\n",
        "    transforms.Resize(256),\n",
        "    transforms.CenterCrop(224),\n",
        "    transforms.ToTensor(), #이미지를 tensor자료형으로 변한\n",
        "    transforms.Normalize(\n",
        "                mean=torch.tensor([0.485, 0.456, 0.406]),\n",
        "                std=torch.tensor([0.229, 0.224, 0.225]))]) # 정규화\n",
        "\n",
        "# batch 크기 최적값 32\n",
        "batch_size = 32\n",
        "\n",
        "trainset = torchvision.datasets.ImageFolder(root='./data/Train', transform=transform_train)\n",
        "train_loader = torch.utils.data.DataLoader(trainset, batch_size=batch_size,\n",
        "                                          shuffle=True, num_workers=2)\n",
        "\n",
        "valset = torchvision.datasets.ImageFolder(root='./data/Val', transform=transform_test)\n",
        "val_loader = torch.utils.data.DataLoader(valset, batch_size=batch_size,\n",
        "                                         shuffle=True, num_workers=2)\n"
      ]
    },
    {
      "cell_type": "markdown",
      "metadata": {
        "id": "BWFb9Dm5WmJc"
      },
      "source": [
        "### Set labels (변경 금지)"
      ]
    },
    {
      "cell_type": "code",
      "execution_count": null,
      "metadata": {
        "id": "FLk_TnmqMr1k"
      },
      "outputs": [],
      "source": [
        "#alphable label\n",
        "from string import ascii_lowercase\n",
        "\n",
        "alphabet_list = list(ascii_lowercase)\n",
        "alphabel_label =[]\n",
        "for alphabet in alphabet_list:\n",
        "    for sub in alphabet_list:\n",
        "        alphabel_label.append(alphabet+sub)\n",
        "alphabel_label = alphabel_label[:120]"
      ]
    },
    {
      "cell_type": "markdown",
      "metadata": {
        "id": "yMo6yEvMWKc7"
      },
      "source": [
        "## Model"
      ]
    },
    {
      "cell_type": "code",
      "execution_count": null,
      "metadata": {
        "id": "JfiWE673O_0i"
      },
      "outputs": [],
      "source": [
        "# torchvision에서 models를 import\n",
        "from torchvision import models"
      ]
    },
    {
      "cell_type": "code",
      "execution_count": null,
      "metadata": {
        "id": "Lo2URprij9Oh"
      },
      "outputs": [],
      "source": [
        "# models에서 사전학습 된 efficientnet_b4를 업로드\n",
        "efficientnet_b4 = models.efficientnet_b4(pretrained=True)"
      ]
    },
    {
      "cell_type": "code",
      "execution_count": null,
      "metadata": {
        "id": "Ty9btyXHlGFU"
      },
      "outputs": [],
      "source": [
        "# efficientnet_b4 모델의 fc layer의 output 클래스의 개수를 120개로 변경(본 프로젝트 데이터셋의 클래스가 120개이기 때문) \n",
        "num_ftrs = efficientnet_b4.classifier[1].in_features\n",
        "efficientnet_b4.classifier[1] = nn.Linear(num_ftrs, 120)"
      ]
    },
    {
      "cell_type": "markdown",
      "metadata": {
        "id": "xUKg7iCmWGRo"
      },
      "source": [
        "## Training"
      ]
    },
    {
      "cell_type": "markdown",
      "metadata": {
        "id": "MXc3VX-_uWih"
      },
      "source": [
        "### Training-function"
      ]
    },
    {
      "cell_type": "code",
      "execution_count": null,
      "metadata": {
        "id": "9uQqavNPuVh8"
      },
      "outputs": [],
      "source": [
        "import warnings\n",
        "warnings.filterwarnings(action='ignore')\n",
        "\n",
        "class Trainer:\n",
        "  def __init__(self, model, train_loader, opt, epoch_size=10, learning_rate=1e-2, use_cuda=True ):\n",
        "    self.use_cuda = use_cuda #gpu 사용 여부\n",
        "    if use_cuda :\n",
        "      self.net = model.cuda() # gpu연산을 위한 model to gpu\n",
        "    else :\n",
        "      self.net = model\n",
        "    self.train_loader = train_loader \n",
        "    self.opt = opt # optmizer 종류 설정을 위한 인자\n",
        "    self.epoch_size = epoch_size # epoch\n",
        "    self.learning_rate = learning_rate \n",
        "    self.validation_epoch = 2 #int(epoch_size/5) # validation 빈도\n",
        "    self.criterion = nn.CrossEntropyLoss() # loss\n",
        "\n",
        "\n",
        "  def train(self, valdiation_loader=None):\n",
        "  \n",
        "    #Optimizer\n",
        "    if self.opt == \"SGD\":\n",
        "      optimizer = optim.SGD(self.net.parameters(), lr=self.learning_rate)\n",
        "    elif self.opt == \"Adam\":\n",
        "      optimizer = optim.Adam(self.net.parameters(), lr=self.learning_rate) \n",
        "    elif self.opt == \"Adagrad\":\n",
        "      optimizer = optim.Adagrad(self.net.parameters(), lr=self.learning_rate) \n",
        "\n",
        "    max_test_acc = 0\n",
        "    for epoch in tqdm(range(self.epoch_size)):\n",
        "      self.net.train() # weight&bias를 update할 수 있는 상태로 변환\n",
        "\n",
        "      for i, (inputs, targets) in enumerate(self.train_loader): \n",
        "        if self.use_cuda: #gpu연산\n",
        "          inputs = inputs.cuda() \n",
        "          targets = targets.cuda()\n",
        "\n",
        "        # gradient를 0으로 초기화\n",
        "        optimizer.zero_grad()\n",
        "        \n",
        "        outputs = self.net(inputs) #forward \n",
        "        loss = self.criterion(outputs, targets) #loss계산\n",
        "        loss.backward() #backward -> gradient계산\n",
        "        optimizer.step() #최적화 -> weight&bias update\n",
        "\n",
        "\n",
        "      if (epoch+1)%self.validation_epoch == 0:\n",
        "        train_acc = self.validate(self.train_loader)\n",
        "        line = 'Train Acc | Epoch {:d}/{:d} | ACC {:f}'.format((epoch+1), self.epoch_size, train_acc)\n",
        "        print(line)\n",
        "\n",
        "        if valdiation_loader != None :\n",
        "          val_acc = self.validate(valdiation_loader)\n",
        "          line_val = 'Val Acc | Epoch {:d}/{:d} | ACC {:f}'.format((epoch+1), self.epoch_size, val_acc)\n",
        "          print(line_val)\n",
        "        \n",
        "        print(\"============================================\")\n",
        "\n",
        "  @torch.no_grad()\n",
        "  def validate(self, data_loader):\n",
        "    self.net.eval()\n",
        "    for i, (inputs, targets) in enumerate(data_loader): \n",
        "      if self.use_cuda: #gpu연산\n",
        "        inputs = inputs.cuda() \n",
        "        targets = targets.cuda()\n",
        "\n",
        "      pred = self.net(inputs) #forward\n",
        "      pred = torch.argmax(pred, dim = 1) #accuracy 측정\n",
        "      pred_c = pred\n",
        "      target_c = targets\n",
        "\n",
        "      if i == 0:\n",
        "        acc = (pred_c==target_c)\n",
        "      else : \n",
        "        acc = torch.cat([acc, (pred_c==target_c)], axis=0)\n",
        "        \n",
        "    acc = acc.float().mean() * 100\n",
        "\n",
        "    return acc.item()\n",
        "\n",
        "  @torch.no_grad()\n",
        "  def test_for_submit(self, data_loader): #kaggle 제출용 def\n",
        "    ID = []\n",
        "    prediction = []\n",
        "    self.net.eval()\n",
        "    for i, (id, image) in enumerate(data_loader): \n",
        "      if self.use_cuda: #gpu연산\n",
        "        image = image.cuda() \n",
        "      \n",
        "      pred = self.net(image) #forward\n",
        "      pred = torch.argmax(pred, dim = 1).cpu().tolist()\n",
        "      ID.extend(list(id))\n",
        "      prediction.extend(pred)\n",
        "\n",
        "    return ID, prediction\n"
      ]
    },
    {
      "cell_type": "markdown",
      "metadata": {
        "id": "IzbvdU8YWPZI"
      },
      "source": [
        "### Training and validation"
      ]
    },
    {
      "cell_type": "code",
      "execution_count": null,
      "metadata": {
        "colab": {
          "base_uri": "https://localhost:8080/",
          "height": 466,
          "referenced_widgets": [
            "dc0be2d8c76f4f01b8039ece8b834aeb",
            "299a95fc709642968bbd071c09f3a656",
            "899564f4838f472e9ba5bfbab0ccb15a",
            "cdeea483007f4a84b79e1a175e551349",
            "510f1ca029ac46dd8788274e59b8fc81",
            "e43cd3aae0c940879a91f75109309883",
            "1e04f05eec4b4138969fb2dd1b44a786",
            "6782827638b34784b54e8e107f8e57cf",
            "5a099bdbad6f4da486747ad4ea4a342a",
            "06e3493494344883b70791f4a3312955",
            "76eecb1fe9544fd5832b396c0ac42186"
          ]
        },
        "id": "r12c9h6wMMcp",
        "outputId": "26444c18-ec64-44c0-f8b1-188946e124ec"
      },
      "outputs": [
        {
          "data": {
            "application/vnd.jupyter.widget-view+json": {
              "model_id": "dc0be2d8c76f4f01b8039ece8b834aeb",
              "version_major": 2,
              "version_minor": 0
            },
            "text/plain": [
              "  0%|          | 0/16 [00:00<?, ?it/s]"
            ]
          },
          "metadata": {},
          "output_type": "display_data"
        },
        {
          "name": "stdout",
          "output_type": "stream",
          "text": [
            "Train Acc | Epoch 2/16 | ACC 71.452866\n",
            "Val Acc | Epoch 2/16 | ACC 78.012634\n",
            "============================================\n",
            "Train Acc | Epoch 4/16 | ACC 79.373184\n",
            "Val Acc | Epoch 4/16 | ACC 85.738579\n",
            "============================================\n",
            "Train Acc | Epoch 6/16 | ACC 82.053772\n",
            "Val Acc | Epoch 6/16 | ACC 87.342079\n",
            "============================================\n",
            "Train Acc | Epoch 8/16 | ACC 84.078392\n",
            "Val Acc | Epoch 8/16 | ACC 88.532555\n",
            "============================================\n",
            "Train Acc | Epoch 10/16 | ACC 85.285065\n",
            "Val Acc | Epoch 10/16 | ACC 88.678329\n",
            "============================================\n",
            "Train Acc | Epoch 12/16 | ACC 86.062523\n",
            "Val Acc | Epoch 12/16 | ACC 89.188538\n",
            "============================================\n",
            "Train Acc | Epoch 14/16 | ACC 86.621323\n",
            "Val Acc | Epoch 14/16 | ACC 89.723030\n",
            "============================================\n",
            "Train Acc | Epoch 16/16 | ACC 87.269196\n",
            "Val Acc | Epoch 16/16 | ACC 89.382896\n",
            "============================================\n"
          ]
        }
      ],
      "source": [
        "# 위에서 선언한 efficient_b4를 Trainer의 model 자리에 삽입(실험적으로 최적 epoch_size = 16, lr = 0.05임을 찾음)\n",
        "trainer = Trainer(efficientnet_b4, train_loader, \"SGD\",epoch_size=16,learning_rate=0.05) #trainer 객체 선언\n",
        "trainer.train(val_loader) #training and validation"
      ]
    },
    {
      "cell_type": "markdown",
      "metadata": {
        "id": "-1kp1oJwMY71"
      },
      "source": [
        "## Test and Submit (변경 금지)"
      ]
    },
    {
      "cell_type": "markdown",
      "metadata": {
        "id": "1qVfyfRjaTdf"
      },
      "source": [
        "#### Test Loader"
      ]
    },
    {
      "cell_type": "code",
      "execution_count": null,
      "metadata": {
        "id": "HNSLCSQmXgUp"
      },
      "outputs": [],
      "source": [
        "import os\n",
        "\n",
        "import cv2\n",
        "import random\n",
        "from PIL import Image\n",
        "from torch.utils import data\n",
        "\n",
        "class TestLoader(data.Dataset):\n",
        "    def __init__(self, root, transform=None):\n",
        "        super(TestLoader, self).__init__()\n",
        "\n",
        "        self.root = root\n",
        "        self.transform = transform\n",
        "        self.test_root = os.path.join(self.root, \"test\")\n",
        "        self.files = []\n",
        "        self.id = []\n",
        "        for i, (root, dirs, files) in enumerate(os.walk(self.test_root)):\n",
        "          files.sort()\n",
        "          for file in files:\n",
        "            self.files.append(os.path.join(self.test_root,file))\n",
        "            self.id.append(file.split('.')[0])\n",
        "\n",
        "\n",
        "    def __getitem__(self, index):\n",
        "        image_path = self.files[index]\n",
        "\n",
        "        image = Image.open(image_path).convert('RGB')\n",
        "        image_id = self.id[index]\n",
        "        if self.transform:\n",
        "            image = self.transform(image)\n",
        "\n",
        "        return image_id, image\n",
        "\n",
        "    def __len__(self):\n",
        "        return len(self.files)\n"
      ]
    },
    {
      "cell_type": "code",
      "execution_count": null,
      "metadata": {
        "id": "j0RDScJlb8Hg"
      },
      "outputs": [],
      "source": [
        "testset = TestLoader(root='./data/Test', transform=transform_test)\n",
        "test_loader = torch.utils.data.DataLoader(testset, batch_size=batch_size,\n",
        "                                         shuffle=False, num_workers=1) #Shuffle=False 절대 변경 금지!!!"
      ]
    },
    {
      "cell_type": "markdown",
      "metadata": {
        "id": "iN8e8SHvjT3z"
      },
      "source": [
        "### Test"
      ]
    },
    {
      "cell_type": "code",
      "execution_count": null,
      "metadata": {
        "id": "tGEf5Go1gsJ3"
      },
      "outputs": [],
      "source": [
        "ID, prediction = trainer.test_for_submit(test_loader)"
      ]
    },
    {
      "cell_type": "markdown",
      "metadata": {
        "id": "NMt1SuQfjZVk"
      },
      "source": [
        "### Kaggle 제출용"
      ]
    },
    {
      "cell_type": "code",
      "execution_count": null,
      "metadata": {
        "colab": {
          "base_uri": "https://localhost:8080/"
        },
        "id": "7kGw8tjiMajR",
        "outputId": "9c367af0-9cc5-4fae-eb8f-f2e3ee6c882f"
      },
      "outputs": [
        {
          "name": "stdout",
          "output_type": "stream",
          "text": [
            "end ID :  4115\n"
          ]
        }
      ],
      "source": [
        "import csv\n",
        "#csv파일 생성\n",
        "with open('submit_efficientnet_baseline.csv', mode='w') as pred_file:\n",
        "  pred_writer = csv.writer(pred_file, delimiter=',')\n",
        "  pred_writer.writerow(['Id', 'Category'])\n",
        "  for i in range(len(prediction)): \n",
        "    pred_writer.writerow([ID[i], alphabel_label[prediction[i]]])\n",
        "  print(\"end ID : \",i)\n"
      ]
    },
    {
      "cell_type": "code",
      "execution_count": null,
      "metadata": {
        "id": "-J97uWPhcFrV"
      },
      "outputs": [],
      "source": []
    }
  ],
  "metadata": {
    "accelerator": "GPU",
    "colab": {
      "collapsed_sections": [],
      "name": "Finalexam_추준성_2016145028.ipynb",
      "provenance": []
    },
    "kernelspec": {
      "display_name": "Python 3",
      "name": "python3"
    },
    "language_info": {
      "name": "python"
    },
    "widgets": {
      "application/vnd.jupyter.widget-state+json": {
        "06e3493494344883b70791f4a3312955": {
          "model_module": "@jupyter-widgets/controls",
          "model_module_version": "1.5.0",
          "model_name": "DescriptionStyleModel",
          "state": {
            "_model_module": "@jupyter-widgets/controls",
            "_model_module_version": "1.5.0",
            "_model_name": "DescriptionStyleModel",
            "_view_count": null,
            "_view_module": "@jupyter-widgets/base",
            "_view_module_version": "1.2.0",
            "_view_name": "StyleView",
            "description_width": ""
          }
        },
        "1e04f05eec4b4138969fb2dd1b44a786": {
          "model_module": "@jupyter-widgets/base",
          "model_module_version": "1.2.0",
          "model_name": "LayoutModel",
          "state": {
            "_model_module": "@jupyter-widgets/base",
            "_model_module_version": "1.2.0",
            "_model_name": "LayoutModel",
            "_view_count": null,
            "_view_module": "@jupyter-widgets/base",
            "_view_module_version": "1.2.0",
            "_view_name": "LayoutView",
            "align_content": null,
            "align_items": null,
            "align_self": null,
            "border": null,
            "bottom": null,
            "display": null,
            "flex": null,
            "flex_flow": null,
            "grid_area": null,
            "grid_auto_columns": null,
            "grid_auto_flow": null,
            "grid_auto_rows": null,
            "grid_column": null,
            "grid_gap": null,
            "grid_row": null,
            "grid_template_areas": null,
            "grid_template_columns": null,
            "grid_template_rows": null,
            "height": null,
            "justify_content": null,
            "justify_items": null,
            "left": null,
            "margin": null,
            "max_height": null,
            "max_width": null,
            "min_height": null,
            "min_width": null,
            "object_fit": null,
            "object_position": null,
            "order": null,
            "overflow": null,
            "overflow_x": null,
            "overflow_y": null,
            "padding": null,
            "right": null,
            "top": null,
            "visibility": null,
            "width": null
          }
        },
        "299a95fc709642968bbd071c09f3a656": {
          "model_module": "@jupyter-widgets/base",
          "model_module_version": "1.2.0",
          "model_name": "LayoutModel",
          "state": {
            "_model_module": "@jupyter-widgets/base",
            "_model_module_version": "1.2.0",
            "_model_name": "LayoutModel",
            "_view_count": null,
            "_view_module": "@jupyter-widgets/base",
            "_view_module_version": "1.2.0",
            "_view_name": "LayoutView",
            "align_content": null,
            "align_items": null,
            "align_self": null,
            "border": null,
            "bottom": null,
            "display": null,
            "flex": null,
            "flex_flow": null,
            "grid_area": null,
            "grid_auto_columns": null,
            "grid_auto_flow": null,
            "grid_auto_rows": null,
            "grid_column": null,
            "grid_gap": null,
            "grid_row": null,
            "grid_template_areas": null,
            "grid_template_columns": null,
            "grid_template_rows": null,
            "height": null,
            "justify_content": null,
            "justify_items": null,
            "left": null,
            "margin": null,
            "max_height": null,
            "max_width": null,
            "min_height": null,
            "min_width": null,
            "object_fit": null,
            "object_position": null,
            "order": null,
            "overflow": null,
            "overflow_x": null,
            "overflow_y": null,
            "padding": null,
            "right": null,
            "top": null,
            "visibility": null,
            "width": null
          }
        },
        "510f1ca029ac46dd8788274e59b8fc81": {
          "model_module": "@jupyter-widgets/controls",
          "model_module_version": "1.5.0",
          "model_name": "HTMLModel",
          "state": {
            "_dom_classes": [],
            "_model_module": "@jupyter-widgets/controls",
            "_model_module_version": "1.5.0",
            "_model_name": "HTMLModel",
            "_view_count": null,
            "_view_module": "@jupyter-widgets/controls",
            "_view_module_version": "1.5.0",
            "_view_name": "HTMLView",
            "description": "",
            "description_tooltip": null,
            "layout": "IPY_MODEL_76eecb1fe9544fd5832b396c0ac42186",
            "placeholder": "​",
            "style": "IPY_MODEL_06e3493494344883b70791f4a3312955",
            "value": " 16/16 [2:06:37&lt;00:00, 488.42s/it]"
          }
        },
        "5a099bdbad6f4da486747ad4ea4a342a": {
          "model_module": "@jupyter-widgets/base",
          "model_module_version": "1.2.0",
          "model_name": "LayoutModel",
          "state": {
            "_model_module": "@jupyter-widgets/base",
            "_model_module_version": "1.2.0",
            "_model_name": "LayoutModel",
            "_view_count": null,
            "_view_module": "@jupyter-widgets/base",
            "_view_module_version": "1.2.0",
            "_view_name": "LayoutView",
            "align_content": null,
            "align_items": null,
            "align_self": null,
            "border": null,
            "bottom": null,
            "display": null,
            "flex": null,
            "flex_flow": null,
            "grid_area": null,
            "grid_auto_columns": null,
            "grid_auto_flow": null,
            "grid_auto_rows": null,
            "grid_column": null,
            "grid_gap": null,
            "grid_row": null,
            "grid_template_areas": null,
            "grid_template_columns": null,
            "grid_template_rows": null,
            "height": null,
            "justify_content": null,
            "justify_items": null,
            "left": null,
            "margin": null,
            "max_height": null,
            "max_width": null,
            "min_height": null,
            "min_width": null,
            "object_fit": null,
            "object_position": null,
            "order": null,
            "overflow": null,
            "overflow_x": null,
            "overflow_y": null,
            "padding": null,
            "right": null,
            "top": null,
            "visibility": null,
            "width": null
          }
        },
        "6782827638b34784b54e8e107f8e57cf": {
          "model_module": "@jupyter-widgets/controls",
          "model_module_version": "1.5.0",
          "model_name": "ProgressStyleModel",
          "state": {
            "_model_module": "@jupyter-widgets/controls",
            "_model_module_version": "1.5.0",
            "_model_name": "ProgressStyleModel",
            "_view_count": null,
            "_view_module": "@jupyter-widgets/base",
            "_view_module_version": "1.2.0",
            "_view_name": "StyleView",
            "bar_color": null,
            "description_width": ""
          }
        },
        "76eecb1fe9544fd5832b396c0ac42186": {
          "model_module": "@jupyter-widgets/base",
          "model_module_version": "1.2.0",
          "model_name": "LayoutModel",
          "state": {
            "_model_module": "@jupyter-widgets/base",
            "_model_module_version": "1.2.0",
            "_model_name": "LayoutModel",
            "_view_count": null,
            "_view_module": "@jupyter-widgets/base",
            "_view_module_version": "1.2.0",
            "_view_name": "LayoutView",
            "align_content": null,
            "align_items": null,
            "align_self": null,
            "border": null,
            "bottom": null,
            "display": null,
            "flex": null,
            "flex_flow": null,
            "grid_area": null,
            "grid_auto_columns": null,
            "grid_auto_flow": null,
            "grid_auto_rows": null,
            "grid_column": null,
            "grid_gap": null,
            "grid_row": null,
            "grid_template_areas": null,
            "grid_template_columns": null,
            "grid_template_rows": null,
            "height": null,
            "justify_content": null,
            "justify_items": null,
            "left": null,
            "margin": null,
            "max_height": null,
            "max_width": null,
            "min_height": null,
            "min_width": null,
            "object_fit": null,
            "object_position": null,
            "order": null,
            "overflow": null,
            "overflow_x": null,
            "overflow_y": null,
            "padding": null,
            "right": null,
            "top": null,
            "visibility": null,
            "width": null
          }
        },
        "899564f4838f472e9ba5bfbab0ccb15a": {
          "model_module": "@jupyter-widgets/controls",
          "model_module_version": "1.5.0",
          "model_name": "HTMLModel",
          "state": {
            "_dom_classes": [],
            "_model_module": "@jupyter-widgets/controls",
            "_model_module_version": "1.5.0",
            "_model_name": "HTMLModel",
            "_view_count": null,
            "_view_module": "@jupyter-widgets/controls",
            "_view_module_version": "1.5.0",
            "_view_name": "HTMLView",
            "description": "",
            "description_tooltip": null,
            "layout": "IPY_MODEL_1e04f05eec4b4138969fb2dd1b44a786",
            "placeholder": "​",
            "style": "IPY_MODEL_e43cd3aae0c940879a91f75109309883",
            "value": "100%"
          }
        },
        "cdeea483007f4a84b79e1a175e551349": {
          "model_module": "@jupyter-widgets/controls",
          "model_module_version": "1.5.0",
          "model_name": "FloatProgressModel",
          "state": {
            "_dom_classes": [],
            "_model_module": "@jupyter-widgets/controls",
            "_model_module_version": "1.5.0",
            "_model_name": "FloatProgressModel",
            "_view_count": null,
            "_view_module": "@jupyter-widgets/controls",
            "_view_module_version": "1.5.0",
            "_view_name": "ProgressView",
            "bar_style": "success",
            "description": "",
            "description_tooltip": null,
            "layout": "IPY_MODEL_5a099bdbad6f4da486747ad4ea4a342a",
            "max": 16,
            "min": 0,
            "orientation": "horizontal",
            "style": "IPY_MODEL_6782827638b34784b54e8e107f8e57cf",
            "value": 16
          }
        },
        "dc0be2d8c76f4f01b8039ece8b834aeb": {
          "model_module": "@jupyter-widgets/controls",
          "model_module_version": "1.5.0",
          "model_name": "HBoxModel",
          "state": {
            "_dom_classes": [],
            "_model_module": "@jupyter-widgets/controls",
            "_model_module_version": "1.5.0",
            "_model_name": "HBoxModel",
            "_view_count": null,
            "_view_module": "@jupyter-widgets/controls",
            "_view_module_version": "1.5.0",
            "_view_name": "HBoxView",
            "box_style": "",
            "children": [
              "IPY_MODEL_899564f4838f472e9ba5bfbab0ccb15a",
              "IPY_MODEL_cdeea483007f4a84b79e1a175e551349",
              "IPY_MODEL_510f1ca029ac46dd8788274e59b8fc81"
            ],
            "layout": "IPY_MODEL_299a95fc709642968bbd071c09f3a656"
          }
        },
        "e43cd3aae0c940879a91f75109309883": {
          "model_module": "@jupyter-widgets/controls",
          "model_module_version": "1.5.0",
          "model_name": "DescriptionStyleModel",
          "state": {
            "_model_module": "@jupyter-widgets/controls",
            "_model_module_version": "1.5.0",
            "_model_name": "DescriptionStyleModel",
            "_view_count": null,
            "_view_module": "@jupyter-widgets/base",
            "_view_module_version": "1.2.0",
            "_view_name": "StyleView",
            "description_width": ""
          }
        }
      }
    }
  },
  "nbformat": 4,
  "nbformat_minor": 0
}
