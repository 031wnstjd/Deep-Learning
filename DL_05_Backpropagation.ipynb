{
  "nbformat": 4,
  "nbformat_minor": 0,
  "metadata": {
    "colab": {
      "name": "DL_05_Backpropagation",
      "provenance": [],
      "collapsed_sections": [],
      "include_colab_link": true
    },
    "kernelspec": {
      "name": "python3",
      "display_name": "Python 3"
    },
    "language_info": {
      "name": "python"
    },
    "accelerator": "GPU"
  },
  "cells": [
    {
      "cell_type": "markdown",
      "metadata": {
        "id": "view-in-github",
        "colab_type": "text"
      },
      "source": [
        "<a href=\"https://colab.research.google.com/github/031wnstjd/Deep-Learning/blob/master/DL_05_Backpropagation.ipynb\" target=\"_parent\"><img src=\"https://colab.research.google.com/assets/colab-badge.svg\" alt=\"Open In Colab\"/></a>"
      ]
    },
    {
      "cell_type": "markdown",
      "metadata": {
        "id": "Y_a1Rz3nVyJh"
      },
      "source": [
        "# DL_05 - Backpropagation\n"
      ]
    },
    {
      "cell_type": "code",
      "metadata": {
        "id": "MI4mr7ETdFSF",
        "colab": {
          "base_uri": "https://localhost:8080/"
        },
        "outputId": "9114b53b-db32-43dd-d642-0c757a687090"
      },
      "source": [
        "name = input(\"Name :\")\n",
        "ID = input(\"student ID :\")"
      ],
      "execution_count": null,
      "outputs": [
        {
          "name": "stdout",
          "output_type": "stream",
          "text": [
            "Name :추준성\n",
            "student ID :2016145028\n"
          ]
        }
      ]
    },
    {
      "cell_type": "markdown",
      "metadata": {
        "id": "vPLGGnO29MSa"
      },
      "source": [
        "## 실습\n",
        "___"
      ]
    },
    {
      "cell_type": "markdown",
      "metadata": {
        "id": "xDukFMhuUJvN"
      },
      "source": [
        "\n",
        "## Matrix 미분 정리\n",
        "$H = XW+b$ </br> $(1,h) = (1,d)x(d,h)+(1,h)$</br>\n",
        "$L = f(H)$</br>\n",
        "$\\frac{\\partial L}{\\partial W} = \\frac{\\partial H}{\\partial W} \\times \\frac{\\partial L}{\\partial H} = \\frac{\\partial (XW+b)}{\\partial W} \\times\\frac{\\partial L}{\\partial H} = X *\\frac{\\partial L}{\\partial H}$</br>\n",
        "$\\frac{\\partial L}{\\partial X} = \\frac{\\partial L}{\\partial H} \\times \\frac{\\partial H}{\\partial X} = \\frac{\\partial L}{\\partial H} \\times \\frac{\\partial (XW+b)}{\\partial X} = \\frac{\\partial L}{\\partial H}*W$</br>\n",
        "$\\frac{\\partial L}{\\partial b}=1*\\frac{\\partial L}{\\partial H}$</br>"
      ]
    },
    {
      "cell_type": "markdown",
      "metadata": {
        "id": "QrYq9QoCVQZR"
      },
      "source": [
        "## 2 Layer Chain Rule\n",
        "\n",
        "### Forward\n",
        "$H = XW_{1} + b$</br>\n",
        "$A = ReLU(H)$</br>\n",
        "$O = AW_{2} + b_{2}$</br>\n",
        "$P = Softmax(O)$</br>\n",
        "$L = Crossentropy(P)$</br>\n",
        "\n",
        "### Backward\n",
        "$\\frac{\\partial L}{\\partial O} = P-T$</br>\n",
        "> _$P$:predicted value $T$:target(label)_ </br>\n",
        "\n",
        "$\\frac{\\partial L}{\\partial W_{2}} = \\frac{\\partial O}{\\partial W_{2}}\\frac{\\partial L}{\\partial O} = A^{T}(P-T) $</br>\n",
        "$\\frac{\\partial L}{\\partial b_{2}} = 1*\\frac{\\partial L}{\\partial O} = P-T$</br>\n",
        "$\\frac{\\partial L}{\\partial A} = \\frac{\\partial L}{\\partial O}\\frac{\\partial O}{\\partial A} = (P-T){W_{2}}^{T} $</br>\n",
        "$\\frac{\\partial L}{\\partial H} = \\frac{\\partial A}{\\partial H}\\frac{\\partial L}{\\partial A}$ #RELU미분과 (Loss를 A에 대하여 미분) 곱하기!!!!</br>\n",
        "$\\frac{\\partial L}{\\partial W_{1}} = \\frac{\\partial H}{\\partial W_{1}}\\frac{\\partial L}{\\partial H} = X^{T}\\frac{\\partial L}{\\partial H}$</br>\n",
        "$\\frac{\\partial L}{\\partial b_{1}} = \\frac{\\partial L}{\\partial H}$ "
      ]
    },
    {
      "cell_type": "markdown",
      "metadata": {
        "id": "i-fmKct3--PU"
      },
      "source": [
        "2 Layer Network를 완성하시오\n"
      ]
    },
    {
      "cell_type": "code",
      "metadata": {
        "id": "Dec_jM7xqcmi"
      },
      "source": [
        "import torch\n",
        "\n",
        "class TwoLayerNet:\n",
        "  def __init__(self, input_size, hidden_size, output_size, std=1e-4):\n",
        "    self.params = {}\n",
        "    torch.manual_seed(0)\n",
        "\n",
        "    # 각 parameter W1, b1, W2, b2에 각 Layer에 상응하는 행렬에 랜덤 값 지정\n",
        "    self.params[\"W1\"] = torch.rand(input_size,hidden_size).cuda().type(torch.cuda.DoubleTensor) \n",
        "    self.params[\"b1\"] = torch.rand(1,hidden_size).cuda().type(torch.cuda.DoubleTensor)\n",
        "    self.params[\"W2\"] = torch.rand(hidden_size, output_size).cuda().type(torch.cuda.DoubleTensor)\n",
        "    self.params[\"b2\"] = torch.rand(1,output_size).cuda().type(torch.cuda.DoubleTensor)\n",
        "  \n",
        "  def relu(self, x):\n",
        "    return torch.max(torch.zeros_like(x), x)\n",
        "\n",
        "  def softmax(self, x):\n",
        "    return torch.exp(x) / torch.sum(torch.exp(x))\n",
        "\n",
        "  def forward(self, X, y = None):\n",
        "\n",
        "    # forward 함수에서 사용하는 변수인 W1, b1, W2, b2에 forward 함수를 거치기 전(즉, 업데이트 전) parameter들을 할당함 \n",
        "    W1, b1 = self.params[\"W1\"], self.params[\"b1\"]\n",
        "    W2, b2 = self.params[\"W2\"], self.params[\"b2\"]\n",
        "    \n",
        "    h = torch.matmul(X,W1) + b1\n",
        "    a = self.relu(h)\n",
        "    o = torch.matmul(a,W2) + b2\n",
        "    p = self.softmax(o)\n",
        "\n",
        "    if y is None: # y값(=target)이 입력이 없을 땐 p와 a를 반환\n",
        "      return p, a\n",
        "    \n",
        "    # p.shape[1] = p-layer에 있는 원소들의 개수 (1 x p.shape[1] 행렬이므로)\n",
        "    # => 데이터 하나에 대해서 다루고 있기 때문에 이런식으로 for문 설정.(만약 n개의 데이터에 대해 다루면 input X는 n x X.shape[1], p는 n x p.shape[1] 행렬이 될 것)\n",
        "    # y는 원핫 인코딩 안 되어 있는 스칼라 값임. 따라서 기존의 Crossentropy 식을 Loss에 그대로 적용하면 안됨.\n",
        "\n",
        "    for i in range(p.shape[1]): \n",
        "      if i == y: # y값(=target)이 있을 땐 Loss를 계산하여 반환\n",
        "        Loss = -torch.log(p[0][i] + 1e-7)\n",
        "    return Loss\n",
        "\n",
        "\n",
        "  def backward(self, X, y, learning_rate=1e-5):\n",
        "      \"\"\"\n",
        "      X: input 데이터 (D,) Dx1 행렬\n",
        "      y: 레이블 (N,) Nx1 행렬\n",
        "      grads에는 Loss에 대한 W1, b1, W2, b2 미분 값이 기록됩니다.\n",
        "      원래 backw 미분 결과를 return 하지만\n",
        "      여기서는 Gradient Descent방식으로 가중치 갱신까지 합니다.\n",
        "      \"\"\"\n",
        "      W1, b1 = self.params[\"W1\"], self.params[\"b1\"]\n",
        "      W2, b2 = self.params[\"W2\"], self.params[\"b2\"]\n",
        "\n",
        "      grads = {}\n",
        "\n",
        "      p, a = self.forward(X) # y값이 입력으로 없으므로 forward(X)는 p와 a값을 반환\n",
        "\n",
        "      # 여기에 파라미터에 대한 미분을 저장하세요.(dp는 Loss를 o로 편미분한 값)\n",
        "\n",
        "      dp = p # dp값을 p로 초기화 (정의상 dp = p-y인데, i==y이면 y=1 이므로 dp=p-1이어야 하고, i!=y이면 y=0 이므로 dp=p여야 함)\n",
        "\n",
        "      for i in range(p.shape[1]):\n",
        "        if i==y: #일치 or 불일치\n",
        "          dp[0][i] -= 1 # p-y\n",
        "      \n",
        "      h = torch.matmul(X,W1)+b1\n",
        "      da = torch.heaviside(h, values=torch.tensor(0,dtype=torch.float64)) #step function = ReLU미분 ->  torch.heaviside(input, values, *, out=None) → Tensor\n",
        "      \n",
        "      grads[\"W2\"] = torch.matmul(a.T, dp)\n",
        "      grads[\"b2\"] = dp\n",
        "      grads[\"W1\"] = torch.matmul(X.T, da*torch.matmul(dp, W2.T))\n",
        "      grads[\"b1\"] = da*torch.matmul(dp, W2.T)\n",
        "\n",
        "\n",
        "      self.params[\"W2\"] -= learning_rate * grads[\"W2\"]\n",
        "      self.params[\"b2\"] -= learning_rate * grads[\"b2\"]\n",
        "      self.params[\"W1\"] -= learning_rate * grads[\"W1\"]\n",
        "      self.params[\"b1\"] -= learning_rate * grads[\"b1\"]\n",
        "\n",
        "  def accuracy(self, X, y):\n",
        "\n",
        "      p, _ = self.forward(X) # p값만 받아옴. label 값과 p값을 비교하여 accuracy 계산을 하기 위함\n",
        "\n",
        "      pred = torch.argmax(p,dim=1) # p값들 중에 가장 큰 값의 index를 반환\n",
        "      acc = torch.sum(pred==y).float()/X.shape[0]*100 # torch.sum(pred==y).float() 은, pred가 y와 같을 때(=정답)의 개수를 더해주는 걸 의미. => 여기선 pred==y이면 값은 1이고 pred!=y이면 값은 0.(X.shpae[0] = 데이터의 개수)\n",
        "\n",
        "      return acc\n",
        "\n",
        "  \n"
      ],
      "execution_count": null,
      "outputs": []
    },
    {
      "cell_type": "markdown",
      "metadata": {
        "id": "DZ-HRa3Y6BSH"
      },
      "source": [
        "#### Data"
      ]
    },
    {
      "cell_type": "code",
      "metadata": {
        "id": "u3wb5RRRQokx",
        "colab": {
          "base_uri": "https://localhost:8080/"
        },
        "outputId": "f42ea273-1dd4-41f9-ad5f-ebc15036f2db"
      },
      "source": [
        "from keras.datasets import mnist\n",
        "import numpy as np\n",
        "from matplotlib import pyplot as plt\n",
        "(x_train, y_train), (x_test, y_test) = mnist.load_data() "
      ],
      "execution_count": null,
      "outputs": [
        {
          "output_type": "stream",
          "name": "stdout",
          "text": [
            "Downloading data from https://storage.googleapis.com/tensorflow/tf-keras-datasets/mnist.npz\n",
            "11493376/11490434 [==============================] - 0s 0us/step\n",
            "11501568/11490434 [==============================] - 0s 0us/step\n"
          ]
        }
      ]
    },
    {
      "cell_type": "code",
      "metadata": {
        "colab": {
          "base_uri": "https://localhost:8080/"
        },
        "id": "rU41dla3E-lK",
        "outputId": "f56bafad-4da3-462a-f0ac-5941224e7125"
      },
      "source": [
        "print(\"shape of x_train :\",x_train.shape)\n",
        "print(\"shape of y_train :\",y_train.shape)\n",
        "print(\"shape of x_test :\",x_test.shape)\n",
        "print(\"shape of y_test :\",y_test.shape)"
      ],
      "execution_count": null,
      "outputs": [
        {
          "output_type": "stream",
          "name": "stdout",
          "text": [
            "shape of x_train : (60000, 28, 28)\n",
            "shape of y_train : (60000,)\n",
            "shape of x_test : (10000, 28, 28)\n",
            "shape of y_test : (10000,)\n"
          ]
        }
      ]
    },
    {
      "cell_type": "code",
      "metadata": {
        "id": "XhwXBuLBCW5U"
      },
      "source": [
        "def preprocessing_data(x_train, x_test, y_train, y_test):\n",
        "    x_train = x_train[:5000]\n",
        "    y_train = y_train[:5000]\n",
        "    x_test = x_test[:1000]\n",
        "    y_test = y_test[:1000]\n",
        "\n",
        "    #change dtype\n",
        "    x_train = torch.from_numpy(x_train).cuda()\n",
        "    x_test = torch.from_numpy(x_test).cuda()\n",
        "\n",
        "    x_train = torch.tensor(x_train,dtype=torch.float64, device=\"cuda:0\")\n",
        "    y_train = torch.tensor(y_train,device=\"cuda:0\")\n",
        "\n",
        "    x_test = torch.tensor(x_test,dtype=torch.float64,device=\"cuda:0\")\n",
        "    y_test = torch.tensor(y_test,device=\"cuda:0\")\n",
        "    \n",
        "    #reshaping\n",
        "    x_train = x_train.reshape([x_train.shape[0],-1]) # flatten => (1, 784)로 reshaping\n",
        "    x_test = x_test.reshape(x_test.shape[0],-1)\n",
        "\n",
        "\n",
        "    #normalization\n",
        "    mean_value = torch.mean(x_train, dim=0)\n",
        "    x_train -= mean_value\n",
        "    x_train = x_train/255\n",
        "    x_test -= mean_value\n",
        "    x_test = x_test/255\n",
        "\n",
        "    \n",
        "    return x_train, x_test, y_train, y_test"
      ],
      "execution_count": null,
      "outputs": []
    },
    {
      "cell_type": "code",
      "metadata": {
        "id": "X8JElsD8kjst",
        "colab": {
          "base_uri": "https://localhost:8080/"
        },
        "outputId": "c5663aee-02ca-4398-cda1-a33f80d46704"
      },
      "source": [
        "x_train, x_test, y_train, y_test = preprocessing_data(x_train, x_test, y_train, y_test)\n"
      ],
      "execution_count": null,
      "outputs": [
        {
          "output_type": "stream",
          "name": "stderr",
          "text": [
            "/usr/local/lib/python3.7/dist-packages/ipykernel_launcher.py:11: UserWarning: To copy construct from a tensor, it is recommended to use sourceTensor.clone().detach() or sourceTensor.clone().detach().requires_grad_(True), rather than torch.tensor(sourceTensor).\n",
            "  # This is added back by InteractiveShellApp.init_path()\n",
            "/usr/local/lib/python3.7/dist-packages/ipykernel_launcher.py:14: UserWarning: To copy construct from a tensor, it is recommended to use sourceTensor.clone().detach() or sourceTensor.clone().detach().requires_grad_(True), rather than torch.tensor(sourceTensor).\n",
            "  \n"
          ]
        }
      ]
    },
    {
      "cell_type": "code",
      "metadata": {
        "colab": {
          "base_uri": "https://localhost:8080/"
        },
        "id": "CbAgU3LWkm_5",
        "outputId": "c26a2628-a9d4-4aec-f2c6-5c85e234d193"
      },
      "source": [
        "print(\"shape of x_train :\",x_train.shape)\n",
        "print(\"shape of y_train :\",y_train.shape)\n",
        "print(\"shape of x_test :\",x_test.shape)\n",
        "print(\"shape of y_test :\",y_test.shape)"
      ],
      "execution_count": null,
      "outputs": [
        {
          "output_type": "stream",
          "name": "stdout",
          "text": [
            "shape of x_train : torch.Size([5000, 784])\n",
            "shape of y_train : torch.Size([5000])\n",
            "shape of x_test : torch.Size([1000, 784])\n",
            "shape of y_test : torch.Size([1000])\n"
          ]
        }
      ]
    },
    {
      "cell_type": "code",
      "metadata": {
        "colab": {
          "base_uri": "https://localhost:8080/"
        },
        "id": "re74sIeDqfJm",
        "outputId": "7027743a-3c8f-4767-e284-1e31356be74f"
      },
      "source": [
        "y_train[0]"
      ],
      "execution_count": null,
      "outputs": [
        {
          "output_type": "execute_result",
          "data": {
            "text/plain": [
              "tensor(5, device='cuda:0', dtype=torch.uint8)"
            ]
          },
          "metadata": {},
          "execution_count": 16
        }
      ]
    },
    {
      "cell_type": "code",
      "metadata": {
        "colab": {
          "base_uri": "https://localhost:8080/"
        },
        "id": "fxUvdSR94v5V",
        "outputId": "82feebd0-ec0d-49a0-bbbe-70f0b733b22d"
      },
      "source": [
        "N = x_train.shape[0] # 데이터의 개수\n",
        "input_size = x_train.shape[1] # input의 개수\n",
        "hidden_size = 5 # hidden layer의 weight의 개수 \n",
        "output_size = 10 # output target 종류의 개수 0~9까지의 숫자 10개에 대하여 어떤 값을 산출 => 이 값들이 softmax를 거쳐서 확률 값으로 변환됨\n",
        "epoch_size = 100 # 반복 횟수 \n",
        "learning_rate = 1e-3\n",
        "\n",
        "import numpy as np\n",
        "\n",
        "nn = TwoLayerNet(input_size=input_size, hidden_size=hidden_size, output_size=output_size)\n",
        "history = {'val_acc': [],'val_loss': []}\n",
        "#코드를 보며 epoch, batch에 대해서 이해해봅시다.\n",
        "for i in range(epoch_size):\n",
        "    for j in range(N): # batch 없이 데이터 개수 N개 만큼 sample 하나를 갖고 training\n",
        "        x_now = x_train[j].unsqueeze(0) # unsqueeze(0) : index 0번째에 차원을 만들고 1 값을 할당. => (D)를 (1,D)로 shape 변환한 것임 => Sample 하나 갖고 forward를 돌릴 것이므로 (1,D)\n",
        "        t_now = y_train[j]\n",
        "        \n",
        "        nn.backward(x_now, t_now, learning_rate) # 가중치 갱신\n",
        "\n",
        "    #accuracy와 loss를 기록해둡시다.\n",
        "    val_acc = 0\n",
        "    val_loss = 0\n",
        "    for k in range(x_test.shape[0]): # x_test.shape[0] = 데이터의 개수\n",
        "        val_acc += nn.accuracy(x_test[k].unsqueeze(0), y_test[k]) # nn클래스 내의 accuracy 함수는 accuracy 값을 반환하므로 각 데이터마다의 accurcy 값 누적 (데이터 개수만큼의 training을 했을 때 accuracy)\n",
        "        val_loss += nn.forward(x_test[k].unsqueeze(0), y_test[k]) # nn클래스 내의 forward 함수는 y값이 있을 때 loss값을 반환하므로 각 데이터마다의 loss 값 누적 (데이터 개수만큼의 training을 했을 때 loss)\n",
        "    history[\"val_acc\"].append(val_acc/x_test.shape[0]) # plot 그리기 위해서 매번의 epoch당 리스트에 저장\n",
        "    history[\"val_loss\"].append(val_loss/x_test.shape[0]) # plot 그리기 위해서 매번의 epoch당 리스트에 저장\n",
        "    \n",
        "    if i % 10 == 0: # 10번마다 출력\n",
        "        # print(i, \"train accuracy :\", nn.accuracy(x_train, y_train))\n",
        "        # print(i, \"train loss     :\", nn.forward(x_train, y_train))\n",
        "        print(i, \"test accuracy :\", val_acc/x_test.shape[0])\n",
        "        print(i, \"test loss     :\", val_loss/x_test.shape[0])\n",
        "        print(\"============================================\")"
      ],
      "execution_count": null,
      "outputs": [
        {
          "output_type": "stream",
          "name": "stdout",
          "text": [
            "0 test accuracy : tensor(25.4000, device='cuda:0')\n",
            "0 test loss     : tensor(2.1951, device='cuda:0', dtype=torch.float64)\n",
            "============================================\n",
            "10 test accuracy : tensor(49.5000, device='cuda:0')\n",
            "10 test loss     : tensor(1.5178, device='cuda:0', dtype=torch.float64)\n",
            "============================================\n",
            "20 test accuracy : tensor(54.4000, device='cuda:0')\n",
            "20 test loss     : tensor(1.3802, device='cuda:0', dtype=torch.float64)\n",
            "============================================\n",
            "30 test accuracy : tensor(58.1000, device='cuda:0')\n",
            "30 test loss     : tensor(1.3098, device='cuda:0', dtype=torch.float64)\n",
            "============================================\n",
            "40 test accuracy : tensor(61.2000, device='cuda:0')\n",
            "40 test loss     : tensor(1.2446, device='cuda:0', dtype=torch.float64)\n",
            "============================================\n",
            "50 test accuracy : tensor(63.3000, device='cuda:0')\n",
            "50 test loss     : tensor(1.1911, device='cuda:0', dtype=torch.float64)\n",
            "============================================\n",
            "60 test accuracy : tensor(65.8000, device='cuda:0')\n",
            "60 test loss     : tensor(1.1228, device='cuda:0', dtype=torch.float64)\n",
            "============================================\n",
            "70 test accuracy : tensor(68., device='cuda:0')\n",
            "70 test loss     : tensor(1.0657, device='cuda:0', dtype=torch.float64)\n",
            "============================================\n",
            "80 test accuracy : tensor(70.1000, device='cuda:0')\n",
            "80 test loss     : tensor(1.0137, device='cuda:0', dtype=torch.float64)\n",
            "============================================\n",
            "90 test accuracy : tensor(72.5000, device='cuda:0')\n",
            "90 test loss     : tensor(0.9595, device='cuda:0', dtype=torch.float64)\n",
            "============================================\n"
          ]
        }
      ]
    },
    {
      "cell_type": "code",
      "metadata": {
        "id": "j81v6VyG7vzn",
        "colab": {
          "base_uri": "https://localhost:8080/",
          "height": 297
        },
        "outputId": "2a6a9df6-acd3-4257-9f18-de0f6e99d510"
      },
      "source": [
        "from matplotlib import pyplot as plt\n",
        "fig = plt.figure()\n",
        "ax_acc = fig.add_subplot(111)\n",
        "\n",
        "ax_acc.plot(range(epoch_size), history['val_acc'], label='정확도(%)', color='darkred')\n",
        "#plt.text(3, 14.7, \"<----------------정확도(%)\", verticalalignment='top', horizontalalignment='right')\n",
        "plt.xlabel('epochs')\n",
        "plt.ylabel('Validation Accuracy(%)')\n",
        "ax_acc.grid(linestyle='--', color='lavender')\n",
        "ax_loss = ax_acc.twinx()\n",
        "ax_loss.plot(range(epoch_size), history['val_loss'], label='오차', color='darkblue')\n",
        "#plt.text(3, 2.2, \"<----------------오차\", verticalalignment='top', horizontalalignment='left')\n",
        "plt.ylabel('Validation Error')\n",
        "ax_loss.yaxis.tick_right()\n",
        "ax_loss.grid(linestyle='--', color='lavender')\n",
        "\n",
        "# 그래프 표시\n",
        "plt.show()\n",
        "\n",
        "print(\"나의 최고 test accuracy : \",max(history['val_acc']))"
      ],
      "execution_count": null,
      "outputs": [
        {
          "output_type": "display_data",
          "data": {
            "image/png": "[encoded data removed]",
            "text/plain": [
              "<Figure size 432x288 with 2 Axes>"
            ]
          },
          "metadata": {
            "needs_background": "light"
          }
        },
        {
          "output_type": "stream",
          "name": "stdout",
          "text": [
            "나의 최고 test accuracy :  tensor(73.7000, device='cuda:0')\n"
          ]
        }
      ]
    },
    {
      "cell_type": "code",
      "metadata": {
        "id": "Yh5oiQ4PaEGs"
      },
      "source": [
        ""
      ],
      "execution_count": null,
      "outputs": []
    }
  ]
}