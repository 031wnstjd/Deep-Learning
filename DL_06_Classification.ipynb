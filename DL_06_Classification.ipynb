{
  "nbformat": 4,
  "nbformat_minor": 0,
  "metadata": {
    "colab": {
      "name": "DL_06_Classification",
      "provenance": [],
      "collapsed_sections": [],
      "toc_visible": true,
      "include_colab_link": true
    },
    "kernelspec": {
      "name": "python3",
      "display_name": "Python 3"
    },
    "language_info": {
      "name": "python"
    },
    "accelerator": "GPU"
  },
  "cells": [
    {
      "cell_type": "markdown",
      "metadata": {
        "id": "view-in-github",
        "colab_type": "text"
      },
      "source": [
        "<a href=\"https://colab.research.google.com/github/031wnstjd/Deep-Learning/blob/master/DL_06_Classification.ipynb\" target=\"_parent\"><img src=\"https://colab.research.google.com/assets/colab-badge.svg\" alt=\"Open In Colab\"/></a>"
      ]
    },
    {
      "cell_type": "markdown",
      "metadata": {
        "id": "Y_a1Rz3nVyJh"
      },
      "source": [
        "# DL_06 - Classification"
      ]
    },
    {
      "cell_type": "code",
      "metadata": {
        "id": "MI4mr7ETdFSF",
        "colab": {
          "base_uri": "https://localhost:8080/"
        },
        "outputId": "488c7524-32da-44df-af2a-2a79b0226fdb"
      },
      "source": [
        "name = input(\"Name :\")\n",
        "ID = input(\"student ID :\")"
      ],
      "execution_count": null,
      "outputs": [
        {
          "name": "stdout",
          "output_type": "stream",
          "text": [
            "Name :추준성\n",
            "student ID :2016145028\n"
          ]
        }
      ]
    },
    {
      "cell_type": "markdown",
      "metadata": {
        "id": "nlQNa_u7Kcgw"
      },
      "source": [
        "## 실습  \n",
        "### 3-layer MLP for classification\n",
        "CIFAR10 dataset을 classification하기 위한 3 layer MLP를 **pytorch**(class)로 구현하시오</br>\n",
        "\n",
        "batch 단위로 학습한 결과를 15 epoch마다 출력(print)하고, 매 epoch마다의 모델의 test accuracy를 plot하시오</br>\n",
        "\n",
        "\n",
        "```\n",
        "hyperparameter : \n",
        "epoch_size = 50\n",
        "batch_size = 128\n",
        "learning_rate = 1e-3\n",
        "첫 번째 hidden layer 개수 = 100\n",
        "두 번째 hidden layer 개수 = 50 \n",
        "모든 hidden layer는 bias 포함\n",
        "\n",
        "\n",
        "```\n",
        "```조건 : output layer를 제외한 모든 layer의 activation function은 relu를 사용. 모든 연산은 GPU이용```</br></br></br>\n"
      ]
    },
    {
      "cell_type": "markdown",
      "metadata": {
        "id": "Fzb0LQanQLNU"
      },
      "source": [
        "### Data"
      ]
    },
    {
      "cell_type": "code",
      "metadata": {
        "id": "gYdI1uzYwnfy"
      },
      "source": [
        "import torch\n",
        "import torchvision\n",
        "import torchvision.transforms as transforms"
      ],
      "execution_count": null,
      "outputs": []
    },
    {
      "cell_type": "code",
      "metadata": {
        "id": "TG1tdbrrw078"
      },
      "source": [
        "transform = transforms.Compose( # 학습하기 좋은 형태로 변환\n",
        "    [transforms.ToTensor(), #이미지를 tensor자료형으로 변환\n",
        "     transforms.Normalize((0.5, 0.5, 0.5), (0.5, 0.5, 0.5))]) # 정규화"
      ],
      "execution_count": null,
      "outputs": []
    },
    {
      "cell_type": "code",
      "metadata": {
        "colab": {
          "base_uri": "https://localhost:8080/"
        },
        "id": "id82-VmQxnB6",
        "outputId": "f7e65fb3-b1a6-438c-de04-6974a5c7df9a"
      },
      "source": [
        "batch_size = 128\n",
        "\n",
        "trainset = torchvision.datasets.CIFAR10(root='./data', train=True,\n",
        "                                        download=True, transform=transform)\n",
        "trainloader = torch.utils.data.DataLoader(trainset, batch_size=batch_size, # 학습할 때 batch_size 개수만큼 학습 데이터를 리턴해주는 DataLoader를 사용\n",
        "                                          shuffle=True, num_workers=2)\n",
        "\n",
        "testset = torchvision.datasets.CIFAR10(root='./data', train=False,\n",
        "                                       download=True, transform=transform)\n",
        "testloader = torch.utils.data.DataLoader(testset, batch_size=batch_size,\n",
        "                                         shuffle=False, num_workers=2) # 테스트할 때 batch_size 개수만큼 테스트 데이터를 리턴해주는 DataLoader를 사용"
      ],
      "execution_count": null,
      "outputs": [
        {
          "output_type": "stream",
          "name": "stdout",
          "text": [
            "Files already downloaded and verified\n",
            "Files already downloaded and verified\n"
          ]
        }
      ]
    },
    {
      "cell_type": "markdown",
      "metadata": {
        "id": "5Ag2xnvGQNN6"
      },
      "source": [
        "### 3-layer MLP"
      ]
    },
    {
      "cell_type": "code",
      "metadata": {
        "id": "Z3IGFFtfxy4D"
      },
      "source": [
        "import torch.nn as nn\n",
        "import numpy as np"
      ],
      "execution_count": null,
      "outputs": []
    },
    {
      "cell_type": "code",
      "metadata": {
        "id": "mZJrWz8zxzuu"
      },
      "source": [
        "class Net(nn.Module): # nn.Module을 꼭 써줘야 함\n",
        "    def __init__(self,input_size, hidden_size_1, hidden_size_2, output_size):\n",
        "        super(Net,self).__init__() # 이 또한 꼭 써줘야함(클래스 상속과 관련)\n",
        "\n",
        "        self.fc1 = nn.Linear(input_size, hidden_size_1) # nn.Linear를 정의하게 되면, fc1에 input x를 넣게 되면 자동으로 output을 출력해줌\n",
        "        self.fc2 = nn.Linear(hidden_size_1, hidden_size_2) # nn.Linear를 사용하게 되면 자동으로 초기 weight와 bias를 지정해줌\n",
        "        self.fc3 = nn.Linear(hidden_size_2, output_size)\n",
        "        self.relu = nn.ReLU()\n",
        "\n",
        "    def forward(self, x): # 데이터를 입력 받아서 foraward propagation진행 -> 자동호출 method\n",
        "        \n",
        "        x = self.fc1(x)\n",
        "        x = self.relu(x) # torch.nn 라이브러리를 사용하게 되면 따로 변수를 각기 다르게 지정해주어 중간값을 기억하지 않아도 됨\n",
        "        x = self.fc2(x)\n",
        "        x = self.relu(x)\n",
        "        x = self.fc3(x)\n",
        "        # softmax 함수를 따로 구현하지 않아도 됨. 향후 사용하게 될 nn.CrossEntropyLoss() 함수에 crossentropy와 softmax 기능이 내장되어 있기 때문. \n",
        "        return x"
      ],
      "execution_count": null,
      "outputs": []
    },
    {
      "cell_type": "code",
      "metadata": {
        "id": "wq4oDTwYyqz9"
      },
      "source": [
        "hidden_size_1 = 100 # hidden layer의 weight의 개수\n",
        "hidden_size_2 = 50\n",
        "output_size = 10 # output target 종류의 개수 \n",
        "\n",
        "net = Net(3072, hidden_size_1, hidden_size_2, output_size) # 모델 net 초기화(flatten 과정 포함 : 3072 = 3*32*32)"
      ],
      "execution_count": null,
      "outputs": []
    },
    {
      "cell_type": "code",
      "metadata": {
        "id": "YaOrnDJMy_-B"
      },
      "source": [
        "import torch.optim as optim\n",
        "\n",
        "learning_rate = 1e-3\n",
        "\n",
        "criterion = nn.CrossEntropyLoss() # loss\n",
        "optimizer = optim.SGD(net.parameters(), lr=learning_rate) #weight와 bias를 update해주는 function (net.parameters()는 변수들을 딕셔너리 형태로 저장)"
      ],
      "execution_count": null,
      "outputs": []
    },
    {
      "cell_type": "markdown",
      "metadata": {
        "id": "_VlJ9IaCQSLG"
      },
      "source": [
        "### Training"
      ]
    },
    {
      "cell_type": "code",
      "metadata": {
        "colab": {
          "base_uri": "https://localhost:8080/"
        },
        "id": "NCxOhA6bzMJE",
        "outputId": "799c5bb1-df1d-4bd0-84c2-72f6568f52a6"
      },
      "source": [
        "epoch_size = 50 # 반복 횟수 \n",
        "\n",
        "for epoch in range(epoch_size):\n",
        "  for i, (inputs, target) in enumerate(trainloader): \n",
        "    print(\"input shape of 1-iteration : \",inputs.shape) #[batch,channel,H,W]\n",
        "    print(\"target shape of 1-iteration : \",target.shape) #[batch]\n",
        "    print(\"===========================\")\n",
        "    reshape_input = inputs.reshape(inputs.shape[0],-1)\n",
        "    print(\"reshape input data for mlp : \",reshape_input.shape)\n",
        "\n",
        "    \n",
        "    if i == 0 :\n",
        "      break\n",
        "  if epoch ==0 : \n",
        "    break"
      ],
      "execution_count": null,
      "outputs": [
        {
          "output_type": "stream",
          "name": "stdout",
          "text": [
            "input shape of 1-iteration :  torch.Size([128, 3, 32, 32])\n",
            "target shape of 1-iteration :  torch.Size([128])\n",
            "===========================\n",
            "reshape input data for mlp :  torch.Size([128, 3072])\n"
          ]
        }
      ]
    },
    {
      "cell_type": "code",
      "metadata": {
        "colab": {
          "base_uri": "https://localhost:8080/"
        },
        "id": "dPSOMu4vzizu",
        "outputId": "c5aa6ea2-fbdf-44c5-a47d-f6f5e61e1c01"
      },
      "source": [
        "history = {'val_acc': []}\n",
        "\n",
        "net.cuda() #gpu연산(네트워크 전체를 cuda로 올려줌)\n",
        "\n",
        "for epoch in range(epoch_size):\n",
        "  net.train() # weight&bias를 update할 수 있는 상태로 변환 (training하기에 앞서 무조건적으로, 습관적으로 적어줘야 함)\n",
        "  total_loss = 0.0\n",
        "  for i, (inputs, targets) in enumerate(trainloader): # enumerate 함수를 사용하면 인덱스 값(=i)과 return 값(=(inputs, targets))을 동시에 받을 수 있다\n",
        "    inputs = inputs.cuda() #gpu연산\n",
        "    targets = targets.cuda() #gpu연산\n",
        "    # i = 0, 1, 2, 3, 4... 각 integer 당 batch_size = 64만큼의 데이터들이 inputs으로 들어옴\n",
        "    inputs = inputs.reshape(inputs.shape[0],-1) #mlp 입력에 맞게 data shape변경 (flatten)\n",
        "\n",
        "    # gradient를 0으로 초기화 (optimizer는 weight와 bias를 업데이트 해주는 함수)\n",
        "    optimizer.zero_grad()\n",
        "\n",
        "    \n",
        "    outputs = net(inputs) #forward (iteration 한 번 돌 때마다 batch_size = 64만큼의 inputs이 net에 입력됨 => torch.Size([64, 3072]))\n",
        "    loss = criterion(outputs, targets) #loss계산\n",
        "    loss.backward() #backward -> gradient계산\n",
        "    optimizer.step() #최적화 -> weight&bias update\n",
        "\n",
        "    total_loss += loss.item()\n",
        "\n",
        "  # 한 번의 epoch에 해당하는 training이 끝나고나서 이제 test 진행\n",
        "\n",
        "  net.eval() # evaluation 상태로 변환 (training이 아닌 test를 할 수 있는 상태로 변환하는 것)\n",
        "  for j, (test_data, test_target) in enumerate(testloader):\n",
        "    test_data = test_data.cuda() #gpu연산 \n",
        "    test_target = test_target.cuda() #gpu연산\n",
        "\n",
        "    test_data = test_data.reshape(test_data.shape[0],-1) #mlp 입력에 맞게 data shape변경 (batch_size에 해당하는 데이터 개수이므로 test_data.shape[0] = 64)\n",
        "\n",
        "    pred = net(test_data) #forward\n",
        "    pred = torch.argmax(pred, dim = 1) #accuracy 측정\n",
        "    pred_c = pred # 64개의 데이터들에 대하여 10개의 클래스 중 어떤 정답을 예측했는지, 예측 정답 클래스에 해당하는 인덱스를 반환받음 \n",
        "    target_c = test_target\n",
        "\n",
        "    if j == 0:\n",
        "      acc = (pred_c==target_c)\n",
        "    else : \n",
        "      acc = torch.cat([acc, (pred_c==target_c)], axis=0)\n",
        "    \n",
        "  acc = acc.float().mean() * 100\n",
        "  history[\"val_acc\"].append(acc.item())\n",
        "  if epoch % 15 == 0:\n",
        "    print(epoch, \"test accuracy     :\", acc)\n",
        "    print(\"============================================\")"
      ],
      "execution_count": null,
      "outputs": [
        {
          "output_type": "stream",
          "name": "stdout",
          "text": [
            "0 test accuracy     : tensor(43.9800, device='cuda:0')\n",
            "============================================\n",
            "15 test accuracy     : tensor(45.3900, device='cuda:0')\n",
            "============================================\n",
            "30 test accuracy     : tensor(46.6900, device='cuda:0')\n",
            "============================================\n",
            "45 test accuracy     : tensor(47.9100, device='cuda:0')\n",
            "============================================\n"
          ]
        }
      ]
    },
    {
      "cell_type": "markdown",
      "metadata": {
        "id": "lij57cKQQUHC"
      },
      "source": [
        "### Visualization"
      ]
    },
    {
      "cell_type": "code",
      "metadata": {
        "colab": {
          "base_uri": "https://localhost:8080/",
          "height": 297
        },
        "id": "XdI_doHPBPTC",
        "outputId": "265881d7-d5f4-4dc4-b241-a0bfd43b9660"
      },
      "source": [
        "from matplotlib import pyplot as plt\n",
        "\n",
        "plt.xlabel('epochs')\n",
        "plt.ylabel('Validation Accuracy(%)')\n",
        "\n",
        "plt.plot(range(epoch_size),history['val_acc'], label='정확도(%)', color='darkred')\n",
        "plt.show()\n",
        "\n",
        "print(\"나의 최고 test accuracy : \",max(history['val_acc']))"
      ],
      "execution_count": null,
      "outputs": [
        {
          "output_type": "display_data",
          "data": {
            "image/png": "[encoded data removed]",
            "text/plain": [
              "<Figure size 432x288 with 1 Axes>"
            ]
          },
          "metadata": {
            "needs_background": "light"
          }
        },
        {
          "output_type": "stream",
          "name": "stdout",
          "text": [
            "나의 최고 test accuracy :  48.2400016784668\n"
          ]
        }
      ]
    }
  ]
}