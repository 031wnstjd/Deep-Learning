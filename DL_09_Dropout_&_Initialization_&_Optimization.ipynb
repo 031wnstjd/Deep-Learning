{
  "nbformat": 4,
  "nbformat_minor": 0,
  "metadata": {
    "colab": {
      "name": "DL_09_Dropout & Initialization & Optimization",
      "provenance": [],
      "collapsed_sections": [],
      "toc_visible": true,
      "include_colab_link": true
    },
    "kernelspec": {
      "name": "python3",
      "display_name": "Python 3"
    },
    "language_info": {
      "name": "python"
    },
    "accelerator": "GPU"
  },
  "cells": [
    {
      "cell_type": "markdown",
      "metadata": {
        "id": "view-in-github",
        "colab_type": "text"
      },
      "source": [
        "<a href=\"https://colab.research.google.com/github/031wnstjd/Deep-Learning/blob/master/DL_09_Dropout_%26_Initialization_%26_Optimization.ipynb\" target=\"_parent\"><img src=\"https://colab.research.google.com/assets/colab-badge.svg\" alt=\"Open In Colab\"/></a>"
      ]
    },
    {
      "cell_type": "markdown",
      "metadata": {
        "id": "Y_a1Rz3nVyJh"
      },
      "source": [
        "# DL_09 - 딥러닝 학습 관련 기술들"
      ]
    },
    {
      "cell_type": "code",
      "metadata": {
        "id": "MI4mr7ETdFSF",
        "colab": {
          "base_uri": "https://localhost:8080/"
        },
        "outputId": "2186bb36-9fb2-4372-b23a-00ef164a2d29"
      },
      "source": [
        "name = input(\"Name :\")\n",
        "ID = input(\"student ID :\")"
      ],
      "execution_count": null,
      "outputs": [
        {
          "name": "stdout",
          "output_type": "stream",
          "text": [
            "Name :추준성\n",
            "student ID :2016145028\n"
          ]
        }
      ]
    },
    {
      "cell_type": "markdown",
      "metadata": {
        "id": "NqY76Dhysdlg"
      },
      "source": [
        "## 실습"
      ]
    },
    {
      "cell_type": "markdown",
      "metadata": {
        "id": "dgAEbWhtwNNI"
      },
      "source": [
        "기초 CNN모델을 바탕으로 다음 조건을 만족하는 모델을 완성한 후 학습하시오.</br>\n",
        "- fc2 layer, fc3 layer 후에 0.1의 확률을 가진 dropout layer를 추가하시오\n",
        "- 모든 layer의 weight를 ```he normal```로 초기화 하시오\n",
        "- Adam Optimization을 사용하여 최적화 하시오\n",
        "\n",
        "_그 외의 조건(하이퍼파라미터 등)은 모두 기초 CNN과 동일)_"
      ]
    },
    {
      "cell_type": "code",
      "metadata": {
        "id": "xOmtoFOUtpwO"
      },
      "source": [
        "import torch\n",
        "import torchvision\n",
        "import torchvision.transforms as transforms\n",
        "import torch.nn as nn\n",
        "import numpy as np\n",
        "import torch.optim as optim\n",
        "import torch.nn.functional as F\n",
        "from matplotlib import pyplot as plt\n",
        "import warnings\n",
        "warnings.filterwarnings(action='ignore')"
      ],
      "execution_count": 2,
      "outputs": []
    },
    {
      "cell_type": "code",
      "metadata": {
        "id": "a-uZHcdDsdHN"
      },
      "source": [
        "class Net_practice(nn.Module): \n",
        "  def __init__(self):\n",
        "      super().__init__()\n",
        "      self.conv1 = nn.Conv2d(3, 6, 5)\n",
        "      self.pool = nn.MaxPool2d(2, 2)\n",
        "      self.conv2 = nn.Conv2d(6, 16, 5)\n",
        "      self.fc1 = nn.Linear(16 * 5 * 5, 120)\n",
        "      self.fc2 = nn.Linear(120, 80)\n",
        "      self.dropout2 = nn.Dropout(p=0.1)\n",
        "      self.fc3 = nn.Linear(80, 40)\n",
        "      self.dropout3 = nn.Dropout(p=0.1)\n",
        "      self.fc4 = nn.Linear(40, 10)\n",
        "\n",
        "      torch.nn.init.kaiming_normal_(self.conv1.weight)\n",
        "      torch.nn.init.kaiming_normal_(self.conv2.weight)\n",
        "      torch.nn.init.kaiming_normal_(self.fc1.weight)\n",
        "      torch.nn.init.kaiming_normal_(self.fc2.weight)\n",
        "      torch.nn.init.kaiming_normal_(self.fc3.weight)\n",
        "      torch.nn.init.kaiming_normal_(self.fc4.weight)\n",
        "\n",
        "  def forward(self, x):\n",
        "      x = self.pool(F.relu(self.conv1(x)))\n",
        "      x = self.pool(F.relu(self.conv2(x)))\n",
        "      x = torch.flatten(x, 1) # 배치를 제외한 모든 차원을 평탄화(flatten)\n",
        "      x = F.relu(self.fc1(x))\n",
        "      x = F.relu(self.fc2(x))\n",
        "      x = self.dropout2(x)\n",
        "      x = F.relu(self.fc3(x))\n",
        "      x = self.dropout3(x)\n",
        "      x = self.fc4(x)\n",
        "      return x\n"
      ],
      "execution_count": 3,
      "outputs": []
    },
    {
      "cell_type": "markdown",
      "metadata": {
        "id": "T2-2my4X_rgd"
      },
      "source": [
        "### Training"
      ]
    },
    {
      "cell_type": "code",
      "metadata": {
        "id": "hqOVYqzWtJwv",
        "colab": {
          "base_uri": "https://localhost:8080/"
        },
        "outputId": "685e17e8-6f91-4a61-f97a-5cb33f34a090"
      },
      "source": [
        "net = Net_practice()\n",
        "trainer_practice = trainer(net, trainloader, \"Adam\",epoch_size=50,learning_rate=1e-3)\n",
        "trainer_practice.train()"
      ],
      "execution_count": null,
      "outputs": [
        {
          "output_type": "stream",
          "name": "stdout",
          "text": [
            "Train Acc | Epoch 5/50 | ACC 59.402000\n",
            "============================================\n",
            "Train Acc | Epoch 10/50 | ACC 65.774002\n",
            "============================================\n",
            "Train Acc | Epoch 15/50 | ACC 70.112000\n",
            "============================================\n",
            "Train Acc | Epoch 20/50 | ACC 74.061996\n",
            "============================================\n",
            "Train Acc | Epoch 25/50 | ACC 77.900002\n",
            "============================================\n",
            "Train Acc | Epoch 30/50 | ACC 79.625999\n",
            "============================================\n",
            "Train Acc | Epoch 35/50 | ACC 82.706001\n",
            "============================================\n",
            "Train Acc | Epoch 40/50 | ACC 83.755997\n",
            "============================================\n",
            "Train Acc | Epoch 45/50 | ACC 85.429993\n",
            "============================================\n",
            "Train Acc | Epoch 50/50 | ACC 86.278000\n",
            "============================================\n"
          ]
        }
      ]
    },
    {
      "cell_type": "markdown",
      "metadata": {
        "id": "Pv_y1h0V_soZ"
      },
      "source": [
        "### Test"
      ]
    },
    {
      "cell_type": "code",
      "metadata": {
        "id": "sRPSGldAbX-w",
        "colab": {
          "base_uri": "https://localhost:8080/"
        },
        "outputId": "88ef7f36-7517-4bc4-a8a4-4b997033b3a4"
      },
      "source": [
        "test_acc = trainer_practice.validate(testloader)\n",
        "print(\"test accuracy of Net_practice :\", test_acc)"
      ],
      "execution_count": null,
      "outputs": [
        {
          "output_type": "stream",
          "name": "stdout",
          "text": [
            "test accuracy of Net_practice : 60.429996490478516\n"
          ]
        }
      ]
    },
    {
      "cell_type": "code",
      "metadata": {
        "id": "k7Dmk4DwqVCU"
      },
      "source": [
        ""
      ],
      "execution_count": null,
      "outputs": []
    }
  ]
}