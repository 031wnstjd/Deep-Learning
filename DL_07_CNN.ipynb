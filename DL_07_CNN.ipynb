{
  "nbformat": 4,
  "nbformat_minor": 0,
  "metadata": {
    "colab": {
      "name": "DL_07_CNN",
      "provenance": [],
      "collapsed_sections": [],
      "toc_visible": true,
      "include_colab_link": true
    },
    "kernelspec": {
      "name": "python3",
      "display_name": "Python 3"
    },
    "language_info": {
      "name": "python"
    },
    "accelerator": "GPU"
  },
  "cells": [
    {
      "cell_type": "markdown",
      "metadata": {
        "id": "view-in-github",
        "colab_type": "text"
      },
      "source": [
        "<a href=\"https://colab.research.google.com/github/031wnstjd/Deep-Learning/blob/master/DL_07_CNN.ipynb\" target=\"_parent\"><img src=\"https://colab.research.google.com/assets/colab-badge.svg\" alt=\"Open In Colab\"/></a>"
      ]
    },
    {
      "cell_type": "markdown",
      "metadata": {
        "id": "Y_a1Rz3nVyJh"
      },
      "source": [
        "# DL_07 - CNN"
      ]
    },
    {
      "cell_type": "code",
      "metadata": {
        "id": "MI4mr7ETdFSF",
        "colab": {
          "base_uri": "https://localhost:8080/"
        },
        "outputId": "2e6465d2-0bf1-4ee2-e7d7-1e6716aa03b0"
      },
      "source": [
        "name = input(\"Name :\")\n",
        "ID = input(\"student ID :\")"
      ],
      "execution_count": null,
      "outputs": [
        {
          "name": "stdout",
          "output_type": "stream",
          "text": [
            "Name :추준성\n",
            "student ID :2016145028\n"
          ]
        }
      ]
    },
    {
      "cell_type": "markdown",
      "metadata": {
        "id": "KK84Vg8uyjd0"
      },
      "source": [
        "## 실습"
      ]
    },
    {
      "cell_type": "markdown",
      "metadata": {
        "id": "OxKPgHKLXbJ6"
      },
      "source": [
        "Network, hyperparamer를 수정하여 CIFAR10의 test accuracy(max)가 **40%** 이상 나오는 모델을 설계하시오."
      ]
    },
    {
      "cell_type": "markdown",
      "metadata": {
        "id": "Sf-Z_VVkEAid"
      },
      "source": [
        "### CNN설계"
      ]
    },
    {
      "cell_type": "code",
      "metadata": {
        "id": "31GOkbF24GyE"
      },
      "source": [
        "import torch.nn as nn\n",
        "import numpy as np\n",
        "import torch.nn.functional as F"
      ],
      "execution_count": null,
      "outputs": []
    },
    {
      "cell_type": "code",
      "metadata": {
        "id": "ef0medfOYRcC"
      },
      "source": [
        "class Net_practice(nn.Module): \n",
        "  def __init__(self):\n",
        "      super(Net_practice, self).__init__()\n",
        "      \n",
        "      self.conv_layer = nn.Sequential(\n",
        "          \n",
        "          # Conv Layer block 1\n",
        "          nn.Conv2d(3, 32, 3, 1, 1),\n",
        "          nn.BatchNorm2d(32),\n",
        "          nn.ReLU(inplace=True),\n",
        "          nn.Conv2d(32, 64 ,3, 1, 1),\n",
        "          nn.ReLU(inplace=True),\n",
        "          nn.MaxPool2d(2, 2),\n",
        "\n",
        "          # Conv Layer block 2\n",
        "          nn.Conv2d(64, 128, 3, 1, 1),\n",
        "          nn.BatchNorm2d(128),\n",
        "          nn.ReLU(inplace=True),\n",
        "          nn.Conv2d(128, 128 ,3, 1, 1),\n",
        "          nn.ReLU(inplace=True),\n",
        "          nn.MaxPool2d(2, 2),\n",
        "          nn.Dropout2d(p=0.05), # overfitting 방지\n",
        "\n",
        "          # Conv Layer block 3\n",
        "          nn.Conv2d(128, 256, 3, 1, 1),\n",
        "          nn.BatchNorm2d(256),\n",
        "          nn.ReLU(inplace=True),\n",
        "          nn.Conv2d(256, 256 ,3, 1, 1),\n",
        "          nn.ReLU(inplace=True),\n",
        "          nn.MaxPool2d(2, 2),\n",
        "      )\n",
        "\n",
        "      self.fc_layer = nn.Sequential(\n",
        "          nn.Dropout(p=0.1),\n",
        "          nn.Linear(4096, 1024),\n",
        "          nn.ReLU(inplace=True),\n",
        "          nn.Linear(1024, 512),\n",
        "          nn.ReLU(inplace=True),\n",
        "          nn.Dropout(p=0.1),\n",
        "          nn.Linear(512, 10)\n",
        "      )\n",
        "\n",
        "  def forward(self, x):\n",
        "      \n",
        "      # conv layers\n",
        "      x = self.conv_layer(x)\n",
        "\n",
        "      # flatten\n",
        "      x = x.view(x.size(0), -1)\n",
        "\n",
        "      # fc layer\n",
        "      x = self.fc_layer(x)\n",
        "\n",
        "      return x\n"
      ],
      "execution_count": null,
      "outputs": []
    },
    {
      "cell_type": "markdown",
      "metadata": {
        "id": "xIJTk8tlEDov"
      },
      "source": [
        "### 하이퍼파라미터"
      ]
    },
    {
      "cell_type": "code",
      "metadata": {
        "id": "TfLIyhjis_Sm"
      },
      "source": [
        "epoch_size = 10\n",
        "learning_rate = 1e-3 \n",
        "batch_size = 64"
      ],
      "execution_count": null,
      "outputs": []
    },
    {
      "cell_type": "markdown",
      "metadata": {
        "id": "f6elKSz3YLYJ"
      },
      "source": [
        "### Training"
      ]
    },
    {
      "cell_type": "code",
      "metadata": {
        "colab": {
          "base_uri": "https://localhost:8080/"
        },
        "id": "4d4VfllSsf9E",
        "outputId": "2eaed588-c709-4f1c-f6b7-c3089f181d03"
      },
      "source": [
        "\n",
        "\n",
        "import torch\n",
        "import torchvision\n",
        "import torchvision.transforms as transforms\n",
        "import torch.optim as optim\n",
        "import torch.nn as nn\n",
        "import torch.nn.functional as F\n",
        "import numpy as np\n",
        "\n",
        "\n",
        "transform = transforms.Compose(\n",
        "    [transforms.ToTensor(), #이미지를 tensor자료형으로 변한\n",
        "     transforms.Normalize((0.5, 0.5, 0.5), (0.5, 0.5, 0.5))]) # 정규화\n",
        "\n",
        "\n",
        "batch_size = 64\n",
        "\n",
        "trainset = torchvision.datasets.CIFAR10(root='./data', train=True,\n",
        "                                        download=True, transform=transform)\n",
        "trainloader = torch.utils.data.DataLoader(trainset, batch_size=batch_size,\n",
        "                                          shuffle=True, num_workers=2)\n",
        "\n",
        "testset = torchvision.datasets.CIFAR10(root='./data', train=False,\n",
        "                                       download=True, transform=transform)\n",
        "testloader = torch.utils.data.DataLoader(testset, batch_size=batch_size,\n",
        "                                         shuffle=False, num_workers=2)\n",
        "\n",
        "\n"
      ],
      "execution_count": null,
      "outputs": [
        {
          "output_type": "stream",
          "name": "stdout",
          "text": [
            "Files already downloaded and verified\n",
            "Files already downloaded and verified\n"
          ]
        }
      ]
    },
    {
      "cell_type": "code",
      "metadata": {
        "id": "w7Rk7UJRs0QF"
      },
      "source": [
        "\n",
        "net = Net_practice().cuda()\n",
        "\n",
        "\n",
        "\n",
        "\n",
        "criterion = nn.CrossEntropyLoss() # loss\n",
        "optimizer = optim.SGD(net.parameters(), lr=learning_rate) \n",
        "\n",
        " # 반복 횟수 \n"
      ],
      "execution_count": null,
      "outputs": []
    },
    {
      "cell_type": "code",
      "metadata": {
        "id": "9Ew1D2Hqs66t",
        "colab": {
          "base_uri": "https://localhost:8080/"
        },
        "outputId": "09de0dc2-fc89-41d3-fcd2-eb68735e800e"
      },
      "source": [
        "import warnings\n",
        "warnings.filterwarnings('ignore')\n",
        "\n",
        "history = {'val_acc': []}\n",
        "\n",
        "\n",
        "for epoch in range(epoch_size):\n",
        "  net.train() # weight&bias를 update할 수 있는 상태로 변환\n",
        "  total_loss = 0.0\n",
        "  for i, (inputs, targets) in enumerate(trainloader): \n",
        "    inputs = inputs.cuda() #gpu연산\n",
        "    targets = targets.cuda() #gpu연산\n",
        "\n",
        "    # gradient를 0으로 초기화\n",
        "    optimizer.zero_grad()\n",
        "\n",
        "    \n",
        "    outputs = net(inputs) #forward \n",
        "    loss = criterion(outputs, targets) #loss계산\n",
        "    loss.backward() #backward -> gradient계산\n",
        "    optimizer.step() #최적화 -> weight&bias update\n",
        "\n",
        "    total_loss += loss.item()\n",
        "\n",
        "\n",
        "  net.eval() # evaluation 상태로 변환\n",
        "  for j, (test_data, test_target) in enumerate(testloader):\n",
        "    test_data = test_data.cuda() #gpu연산 \n",
        "    test_target = test_target.cuda() #gpu연산\n",
        "\n",
        "\n",
        "    pred = net(test_data) #forward\n",
        "    pred = torch.argmax(pred, dim = 1) #accuracy 측정\n",
        "    pred_c = pred\n",
        "    target_c = test_target\n",
        "\n",
        "    if j == 0:\n",
        "      acc = (pred_c==target_c)\n",
        "    else : \n",
        "      acc = torch.cat([acc, (pred_c==target_c)], axis=0)\n",
        "    \n",
        "  acc = acc.float().mean() * 100\n",
        "  history[\"val_acc\"].append(acc.item())\n",
        "\n",
        "  print(epoch, \"test accuracy     :\", acc)\n",
        "  print(\"============================================\")\n",
        "\n",
        "\n",
        "\n"
      ],
      "execution_count": null,
      "outputs": [
        {
          "output_type": "stream",
          "name": "stdout",
          "text": [
            "0 test accuracy     : tensor(22.1600, device='cuda:0')\n",
            "============================================\n",
            "1 test accuracy     : tensor(31.2300, device='cuda:0')\n",
            "============================================\n",
            "2 test accuracy     : tensor(35.7500, device='cuda:0')\n",
            "============================================\n",
            "3 test accuracy     : tensor(39.0500, device='cuda:0')\n",
            "============================================\n",
            "4 test accuracy     : tensor(42.8800, device='cuda:0')\n",
            "============================================\n",
            "5 test accuracy     : tensor(45.3100, device='cuda:0')\n",
            "============================================\n",
            "6 test accuracy     : tensor(47.8600, device='cuda:0')\n",
            "============================================\n",
            "7 test accuracy     : tensor(52.0200, device='cuda:0')\n",
            "============================================\n",
            "8 test accuracy     : tensor(54.2700, device='cuda:0')\n",
            "============================================\n"
          ]
        }
      ]
    },
    {
      "cell_type": "markdown",
      "metadata": {
        "id": "7QOHjAVhEI1s"
      },
      "source": [
        "### 결과"
      ]
    },
    {
      "cell_type": "code",
      "metadata": {
        "id": "iqfeS7hTtXQd",
        "colab": {
          "base_uri": "https://localhost:8080/",
          "height": 297
        },
        "outputId": "1e756301-a982-4a03-d5b8-12dc560ec52d"
      },
      "source": [
        "from matplotlib import pyplot as plt\n",
        "\n",
        "plt.xlabel('epochs')\n",
        "plt.ylabel('Validation Accuracy(%)')\n",
        "\n",
        "plt.plot(range(epoch_size),history['val_acc'], label='정확도(%)', color='darkred')\n",
        "plt.show()\n",
        "\n",
        "print(\"나의 최고 test accuracy : \",max(history['val_acc']))"
      ],
      "execution_count": null,
      "outputs": [
        {
          "output_type": "display_data",
          "data": {
            "image/png": "[encoded data removed]",
            "text/plain": [
              "<Figure size 432x288 with 1 Axes>"
            ]
          },
          "metadata": {
            "needs_background": "light"
          }
        },
        {
          "output_type": "stream",
          "name": "stdout",
          "text": [
            "나의 최고 test accuracy :  56.0\n"
          ]
        }
      ]
    }
  ]
}