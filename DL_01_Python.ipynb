{
  "nbformat": 4,
  "nbformat_minor": 0,
  "metadata": {
    "colab": {
      "name": "lab01_추준성_2016145028",
      "provenance": [],
      "collapsed_sections": [],
      "toc_visible": true,
      "include_colab_link": true
    },
    "kernelspec": {
      "name": "python3",
      "display_name": "Python 3"
    },
    "language_info": {
      "name": "python"
    }
  },
  "cells": [
    {
      "cell_type": "markdown",
      "metadata": {
        "id": "view-in-github",
        "colab_type": "text"
      },
      "source": [
        "<a href=\"https://colab.research.google.com/github/031wnstjd/web1/blob/master/lab01_%EC%B6%94%EC%A4%80%EC%84%B1_2016145028.ipynb\" target=\"_parent\"><img src=\"https://colab.research.google.com/assets/colab-badge.svg\" alt=\"Open In Colab\"/></a>"
      ]
    },
    {
      "cell_type": "markdown",
      "metadata": {
        "id": "Y_a1Rz3nVyJh"
      },
      "source": [
        "# DL_01 - Python\n",
        "\n"
      ]
    },
    {
      "cell_type": "code",
      "metadata": {
        "id": "oZ9DtRI9cJPU",
        "colab": {
          "base_uri": "https://localhost:8080/"
        },
        "outputId": "1baab458-1892-4192-b157-8224ef58c90f"
      },
      "source": [
        "name = input(\"Name :\")\n",
        "ID = input(\"student ID :\")"
      ],
      "execution_count": null,
      "outputs": [
        {
          "name": "stdout",
          "output_type": "stream",
          "text": [
            "Name :추준성\n",
            "student ID :2016145028\n"
          ]
        }
      ]
    },
    {
      "cell_type": "markdown",
      "metadata": {
        "id": "U7TFu37fHtw_"
      },
      "source": [
        "### 실습 1\n",
        "List&Dictionary"
      ]
    },
    {
      "cell_type": "markdown",
      "metadata": {
        "id": "2wb7ImrJhWlZ"
      },
      "source": [
        "리스트 A에 인덱스로 접근하여 ```이미지```를 출력하시오"
      ]
    },
    {
      "cell_type": "code",
      "metadata": {
        "id": "9ZU0JRIPhfxA"
      },
      "source": [
        "A = [1, 4, 7, {\"분야\" : ['텍스트', '이미지', '강화학습']}]"
      ],
      "execution_count": null,
      "outputs": []
    },
    {
      "cell_type": "code",
      "metadata": {
        "colab": {
          "base_uri": "https://localhost:8080/",
          "height": 35
        },
        "id": "DP_4pIuZht9s",
        "outputId": "121ae01f-b133-4a2b-a3d7-f41db66e30fb"
      },
      "source": [
        "A[3][\"분야\"][1]"
      ],
      "execution_count": null,
      "outputs": [
        {
          "output_type": "execute_result",
          "data": {
            "application/vnd.google.colaboratory.intrinsic+json": {
              "type": "string"
            },
            "text/plain": [
              "'이미지'"
            ]
          },
          "metadata": {},
          "execution_count": 50
        }
      ]
    },
    {
      "cell_type": "markdown",
      "metadata": {
        "id": "zyVi6MoyivT5"
      },
      "source": [
        "### 실습 2\n",
        "List&Loop "
      ]
    },
    {
      "cell_type": "markdown",
      "metadata": {
        "id": "P2svJcPUjJYj"
      },
      "source": [
        "문자열 ```B = \"연세대학교\"```를 사용하여 다음과 같이 출력하시오"
      ]
    },
    {
      "cell_type": "code",
      "metadata": {
        "id": "F49Tv_xEi_KL"
      },
      "source": [
        "B = \"연세대학교\""
      ],
      "execution_count": null,
      "outputs": []
    },
    {
      "cell_type": "code",
      "metadata": {
        "colab": {
          "base_uri": "https://localhost:8080/"
        },
        "id": "-8piu96pi9Uj",
        "outputId": "425da36c-4fc1-4c58-ffaa-27728ce36433"
      },
      "source": [
        "A = \"\"\n",
        "for i in range(len(B)):\n",
        "    A = A + B[i]\n",
        "    print(A)"
      ],
      "execution_count": null,
      "outputs": [
        {
          "output_type": "stream",
          "name": "stdout",
          "text": [
            "연\n",
            "연세\n",
            "연세대\n",
            "연세대학\n",
            "연세대학교\n"
          ]
        }
      ]
    },
    {
      "cell_type": "markdown",
      "metadata": {
        "id": "IE6Fst2POOZd"
      },
      "source": [
        "### 실습 3\n",
        "List&If "
      ]
    },
    {
      "cell_type": "markdown",
      "metadata": {
        "id": "51x1FKXIObNI"
      },
      "source": [
        "시계가 고장나 원래 시간보다 45분 빠르다\n",
        "\n",
        "\n",
        "시계가 나타내는 시간이 list형으로 ```[시간, 분]```로 주어질 때, 실제 시간을 \"시간 분\"형식으로 출력하시오.\n",
        "</br>_$$0\\leq(시간) \\leq 23 ,0\\leq(분) \\leq 59  $$_"
      ]
    },
    {
      "cell_type": "code",
      "metadata": {
        "colab": {
          "base_uri": "https://localhost:8080/"
        },
        "id": "XUI5x21bON-N",
        "outputId": "8ea6edbd-07ec-4099-b807-979ca2a14417"
      },
      "source": [
        "a = [12, 46] # h_r : real hour, m_r : real minute, h_f : fake hour, m_f : fake minute\n",
        "\n",
        "# Clockdata = list(map(int, input(\"시계가 나타내는 시각을 시간, 분 순서로 띄어쓰기로 입력해주세요 : \").split()))\n",
        "\n",
        "Clockdata = [12, 46]\n",
        "\n",
        "h_f = Clockdata[0]\n",
        "m_f = Clockdata[1]\n",
        "\n",
        "if m_f - 45 >= 0:\n",
        "  print(\"실제 시간은 \", h_f, \"시 \", m_f-45, \"분 입니다.\")\n",
        "else:\n",
        "    if h_f == 0:\n",
        "      print(\"실제 시간은 \", \"23시 \", (60 + m_f - 45), \"분 입니다.\")\n",
        "    else:\n",
        "      print(\"실제 시간은 \", h_f - 1, \"시 \", (60 + m_f - 45), \"분 입니다.\")\n"
      ],
      "execution_count": null,
      "outputs": [
        {
          "output_type": "stream",
          "name": "stdout",
          "text": [
            "실제 시간은  12 시  1 분 입니다.\n"
          ]
        }
      ]
    },
    {
      "cell_type": "code",
      "metadata": {
        "id": "t61CbhzsVPy0"
      },
      "source": [
        ""
      ],
      "execution_count": null,
      "outputs": []
    }
  ]
}
