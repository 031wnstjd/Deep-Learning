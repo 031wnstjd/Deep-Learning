{
  "nbformat": 4,
  "nbformat_minor": 0,
  "metadata": {
    "colab": {
      "name": "DL_03_Perceptron & MLP",
      "provenance": [],
      "collapsed_sections": [],
      "toc_visible": true,
      "include_colab_link": true
    },
    "kernelspec": {
      "name": "python3",
      "display_name": "Python 3"
    },
    "language_info": {
      "name": "python"
    }
  },
  "cells": [
    {
      "cell_type": "markdown",
      "metadata": {
        "id": "view-in-github",
        "colab_type": "text"
      },
      "source": [
        "<a href=\"https://colab.research.google.com/github/031wnstjd/Deep-Learning/blob/master/DL_03_Perceptron_%26_MLP.ipynb\" target=\"_parent\"><img src=\"https://colab.research.google.com/assets/colab-badge.svg\" alt=\"Open In Colab\"/></a>"
      ]
    },
    {
      "cell_type": "markdown",
      "metadata": {
        "id": "Y_a1Rz3nVyJh"
      },
      "source": [
        "# DL_03 - Perceptron & MLP\n",
        "\n"
      ]
    },
    {
      "cell_type": "code",
      "metadata": {
        "id": "MI4mr7ETdFSF",
        "colab": {
          "base_uri": "https://localhost:8080/"
        },
        "outputId": "828d0026-084b-434f-a555-535a66bb309e"
      },
      "source": [
        "name = input(\"Name :\")\n",
        "ID = input(\"student ID :\")"
      ],
      "execution_count": null,
      "outputs": [
        {
          "name": "stdout",
          "output_type": "stream",
          "text": [
            "Name :추준성\n",
            "student ID :2016145028\n"
          ]
        }
      ]
    },
    {
      "cell_type": "markdown",
      "metadata": {
        "id": "XU70TlJgbche"
      },
      "source": [
        "#### OR - **실습 1**\n",
        "초기 weight값을 0으로 초기화하고 OR gate를 구현하시오.</br>\n",
        "학습이 완료된 후의 weight를 학습 전 초기 weight와 비교하시오. (출력하여 확인)"
      ]
    },
    {
      "cell_type": "code",
      "metadata": {
        "id": "CF4FRoLf9ja7"
      },
      "source": [
        "import torch \n",
        "\n",
        "input_tensor = torch.tensor([[1,1],\n",
        "                            [1,0],\n",
        "                            [0,1],\n",
        "                            [0,0]],dtype=torch.float32)\n",
        "\n",
        "labels_and = torch.tensor([1, 0, 0, 0])\n",
        "labels_or = torch.tensor([1, 1, 1, 0])\n",
        "labels_nand = torch.tensor([0, 1, 1, 1])\n",
        "labels_xor = torch.tensor([0, 1, 1, 0])"
      ],
      "execution_count": null,
      "outputs": []
    },
    {
      "cell_type": "code",
      "metadata": {
        "id": "RoDPzFiE-1Qv"
      },
      "source": [
        "class Perceptron():\n",
        "  def __init__(self, weight = torch.randn(2), bias = 0):\n",
        "    self.weight = weight\n",
        "    self.bias = bias\n",
        "\n",
        "  def predict(self, x):\n",
        "\n",
        "    pred = torch.matmul(self.weight, x.T) + self.bias\n",
        "\n",
        "    if pred > 0:\n",
        "      return 1\n",
        "    else:\n",
        "      return 0\n",
        "  \n",
        "  def train(self, inputs, labels, alpha = 0.01, epochs = 1000):\n",
        "    for epoch in range(epochs):\n",
        "      error = 0\n",
        "      for x, y in zip(inputs, labels):  \n",
        "        pred_y = self.predict(x)\n",
        "\n",
        "        self.weight += alpha*(y-pred_y)*x\n",
        "        self.bias += alpha*(y-pred_y)*1\n",
        "\n",
        "        if y-pred_y != 0:\n",
        "          error += 1\n",
        "\n",
        "      if error == 0:\n",
        "        print(f'Training has finished in epoch {epoch}')\n",
        "        break\n",
        "      \n",
        "    \n",
        "\n"
      ],
      "execution_count": null,
      "outputs": []
    },
    {
      "cell_type": "code",
      "metadata": {
        "colab": {
          "base_uri": "https://localhost:8080/"
        },
        "id": "rUyYHHOw7nay",
        "outputId": "2513b3a2-984b-4ea6-9b73-aab30ed1dcf0"
      },
      "source": [
        "Perceptron_OR = Perceptron(torch.zeros(2))\n",
        "print(f\"학습 전 weight는 {Perceptron_OR.weight}입니다.\")"
      ],
      "execution_count": null,
      "outputs": [
        {
          "output_type": "stream",
          "name": "stdout",
          "text": [
            "학습 전 weight는 tensor([0., 0.])입니다.\n"
          ]
        }
      ]
    },
    {
      "cell_type": "code",
      "metadata": {
        "colab": {
          "base_uri": "https://localhost:8080/"
        },
        "id": "tqcfotQy_BDw",
        "outputId": "07f033a7-be11-492e-fd23-2352366c9a49"
      },
      "source": [
        "Perceptron_OR.train(input_tensor, labels_or)"
      ],
      "execution_count": null,
      "outputs": [
        {
          "output_type": "stream",
          "name": "stdout",
          "text": [
            "Training has finished in epoch 1\n"
          ]
        }
      ]
    },
    {
      "cell_type": "code",
      "metadata": {
        "colab": {
          "base_uri": "https://localhost:8080/"
        },
        "id": "m61Rht-m7sAx",
        "outputId": "863bf316-85f2-438d-ddad-71a5e6f253ae"
      },
      "source": [
        "for x,y in zip(input_tensor,labels_or):\n",
        "  pred = Perceptron_OR.predict(x)\n",
        "  print(f\"Input tensor is {x} || Label is {y} || Predicted value is {pred}\")"
      ],
      "execution_count": null,
      "outputs": [
        {
          "output_type": "stream",
          "name": "stdout",
          "text": [
            "Input tensor is tensor([1., 1.]) || Label is 1 || Predicted value is 1\n",
            "Input tensor is tensor([1., 0.]) || Label is 1 || Predicted value is 1\n",
            "Input tensor is tensor([0., 1.]) || Label is 1 || Predicted value is 1\n",
            "Input tensor is tensor([0., 0.]) || Label is 0 || Predicted value is 0\n"
          ]
        }
      ]
    },
    {
      "cell_type": "code",
      "metadata": {
        "colab": {
          "base_uri": "https://localhost:8080/"
        },
        "id": "QGu_bii3ddiI",
        "outputId": "7af1ab37-ef88-47ff-ff53-358a10140e57"
      },
      "source": [
        "print(f\"학습이 완료된 후의 weight는 {Perceptron_OR.weight}입니다.\")"
      ],
      "execution_count": null,
      "outputs": [
        {
          "output_type": "stream",
          "name": "stdout",
          "text": [
            "학습이 완료된 후의 weight는 tensor([0., 0.])입니다.\n"
          ]
        }
      ]
    },
    {
      "cell_type": "markdown",
      "metadata": {
        "id": "vZ66zVXwbukj"
      },
      "source": [
        "#### NAND - **실습 2**\n",
        "초기 weight값을 0으로 초기화하고 NAND gate를 구현하시오.</br>\n",
        "학습 epoch을 50, alpha는 0.1로 설정하시오</br>\n",
        "학습이 완료된 후의 weight를 학습 전 초기 weight와 비교하시오. (출력하여 확인)"
      ]
    },
    {
      "cell_type": "code",
      "metadata": {
        "colab": {
          "base_uri": "https://localhost:8080/"
        },
        "id": "uCTRP1B_eM1G",
        "outputId": "c6a7ed4d-b674-4118-9390-3406aa919ec9"
      },
      "source": [
        "Perceptron_NAND = Perceptron(torch.zeros(2))\n",
        "print(f\"학습 전 weight는 {Perceptron_NAND.weight} 입니다\")\n",
        "Perceptron_NAND.train(input_tensor, labels_nand, alpha = 0.1, epochs = 50)\n",
        "\n",
        "for x, y in zip(input_tensor, labels_nand):\n",
        "  pred = Perceptron_NAND.predict(x)\n",
        "  print(f\"input tensor is {x} || Label is {y} || Predicted value is {pred}\")\n",
        "  \n",
        "print(f\"학습이 완료된 후 weight는 {Perceptron_NAND.weight} 입니다\")\n",
        "\n"
      ],
      "execution_count": null,
      "outputs": [
        {
          "output_type": "stream",
          "name": "stdout",
          "text": [
            "학습 전 weight는 tensor([0., 0.]) 입니다\n",
            "Training has finished in epoch 6\n",
            "input tensor is tensor([1., 1.]) || Label is 0 || Predicted value is 0\n",
            "input tensor is tensor([1., 0.]) || Label is 1 || Predicted value is 1\n",
            "input tensor is tensor([0., 1.]) || Label is 1 || Predicted value is 1\n",
            "input tensor is tensor([0., 0.]) || Label is 1 || Predicted value is 1\n",
            "학습이 완료된 후 weight는 tensor([-0.1000, -0.2000]) 입니다\n"
          ]
        }
      ]
    },
    {
      "cell_type": "markdown",
      "metadata": {
        "id": "ZMbs8WIUs6U7"
      },
      "source": [
        "### 실습"
      ]
    },
    {
      "cell_type": "markdown",
      "metadata": {
        "id": "L85M-cf0tA6D"
      },
      "source": [
        "퍼셉트론 학습규칙을 이용하여 random initialized MLP를 XOR 문제를 풀 수 있도록 학습하시오."
      ]
    },
    {
      "cell_type": "code",
      "metadata": {
        "id": "sKeIHGtetBm2"
      },
      "source": [
        "class Perceptron_XOR :\n",
        "  def __init__(self):\n",
        "    self.perceptron_and = Perceptron(weight=torch.zeros(2))\n",
        "    self.perceptron_or = Perceptron(weight=torch.zeros(2))\n",
        "    self.perceptron_nand = Perceptron(weight=torch.zeros(2))\n",
        "    \n",
        "  def predict(self, inputs):\n",
        "    result_nand = self.perceptron_nand.predict(inputs)\n",
        "    result_or = self.perceptron_or.predict(inputs)\n",
        "    result_xor = self.perceptron_and.predict(torch.tensor([result_nand, result_or], dtype=torch.float32))\n",
        "    return result_xor\n",
        "\n",
        "  def train(self,input_tensor,labels_and,labels_or,labels_nand):\n",
        "    self.perceptron_and.train(input_tensor, labels_and)\n",
        "    self.perceptron_or.train(input_tensor, labels_or)\n",
        "    self.perceptron_nand.train(input_tensor, labels_nand)"
      ],
      "execution_count": null,
      "outputs": []
    },
    {
      "cell_type": "code",
      "metadata": {
        "colab": {
          "base_uri": "https://localhost:8080/"
        },
        "id": "R-q58TOUgdwy",
        "outputId": "05038db9-cdd7-4475-a492-9d7ea005a1f5"
      },
      "source": [
        "perceptron_xor = Perceptron_XOR()\n",
        "perceptron_xor.train(input_tensor, labels_and, labels_or, labels_nand)"
      ],
      "execution_count": null,
      "outputs": [
        {
          "output_type": "stream",
          "name": "stdout",
          "text": [
            "Training has finished in epoch 5\n",
            "Training has finished in epoch 1\n",
            "Training has finished in epoch 7\n"
          ]
        }
      ]
    },
    {
      "cell_type": "code",
      "metadata": {
        "colab": {
          "base_uri": "https://localhost:8080/"
        },
        "id": "LnaX6SSUgxeo",
        "outputId": "dae21afc-a87a-406d-d433-9aa5545347bb"
      },
      "source": [
        "for x, y in zip(input_tensor, labels_xor):\n",
        "  result = perceptron_xor.predict(x)\n",
        "  print(f\"Input tensor is {x} || Label is {y} || Predicted value is {result}\")"
      ],
      "execution_count": null,
      "outputs": [
        {
          "output_type": "stream",
          "name": "stdout",
          "text": [
            "Input tensor is tensor([1., 1.]) || Label is 0 || Predicted value is 0\n",
            "Input tensor is tensor([1., 0.]) || Label is 1 || Predicted value is 1\n",
            "Input tensor is tensor([0., 1.]) || Label is 1 || Predicted value is 1\n",
            "Input tensor is tensor([0., 0.]) || Label is 0 || Predicted value is 0\n"
          ]
        }
      ]
    }
  ]
}